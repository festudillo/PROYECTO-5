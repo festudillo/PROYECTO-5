{
 "cells": [
  {
   "cell_type": "markdown",
   "metadata": {},
   "source": [
    "¡Hola!\n",
    "\n",
    "Mi nombre es Marcos Torres, seré el encargado de revisar tu código el día de hoy.\n",
    "\n",
    "Cuando vea algo notable o algún asunto en el notebook, te dejaré un comentario o un hint. Se que encontraras la mejor respuesta para resolver todos los comentarios, de no ser así, no te preocupes en futuras iteraciones dejaré comentarios y pistas más específicos.\n",
    "\n",
    "Este proceso es muy parecido al que se recibe de un gerente o de un Senior Data Scientist en un trabajo real, por lo que te estarás preparando para la experiencia en la vida real.\n",
    "\n",
    "Encontrarás comentarios en verde, amarillo o rojo como los siguientes:\n",
    "\n",
    "<div class=\"alert alert-block alert-success\">\n",
    "<b>Reviewer's comment</b> <a class=\"tocSkip\"></a>\n",
    "\n",
    "Buen trabajo. ¡Lo hiciste muy bien!\n",
    "</div>\n",
    "\n",
    "<div class=\"alert alert-block alert-warning\">\n",
    "<b>Reviewer's comment</b> <a class=\"tocSkip\"></a>\n",
    "\n",
    "Nota. Se puede mejorar.\n",
    "</div>\n",
    "\n",
    "<div class=\"alert alert-block alert-danger\">\n",
    "<b>Reviewer's comment</b> <a class=\"tocSkip\"></a>\n",
    "\n",
    "Necesitas corregirlo. Este bloque indica que se requiere una correción. El trabajo no se acepta si tiene estos bloques.\n",
    "</div>\n",
    "\n",
    "Puedes responder a mis comentarios usando estos bloques:\n",
    "\n",
    "<div class=\"alert alert-block alert-info\">\n",
    "<b>Respuesta del estudiante.</b> <a class=\"tocSkip\"></a>\n",
    "</div>\n"
   ]
  },
  {
   "cell_type": "code",
   "execution_count": 1,
   "metadata": {},
   "outputs": [],
   "source": [
    "import pandas as pd\n",
    "import numpy as np\n",
    "import math\n",
    "import matplotlib.pyplot as plt\n",
    "from scipy import stats as st"
   ]
  },
  {
   "cell_type": "markdown",
   "metadata": {},
   "source": [
    "#### Estudio de la información general"
   ]
  },
  {
   "cell_type": "code",
   "execution_count": 2,
   "metadata": {},
   "outputs": [],
   "source": [
    "dataset = pd.read_csv('/datasets/games.csv')"
   ]
  },
  {
   "cell_type": "markdown",
   "metadata": {},
   "source": [
    "<div class=\"alert alert-block alert-success\">\n",
    "<b>Reviewer's comment</b> <a class=\"tocSkip\"></a>\n",
    "\n",
    "Bien, usaste una celda independiente para leer las librerías y otra para leer los datos.\n",
    "</div>"
   ]
  },
  {
   "cell_type": "code",
   "execution_count": 3,
   "metadata": {
    "scrolled": true
   },
   "outputs": [
    {
     "data": {
      "text/html": [
       "<div>\n",
       "<style scoped>\n",
       "    .dataframe tbody tr th:only-of-type {\n",
       "        vertical-align: middle;\n",
       "    }\n",
       "\n",
       "    .dataframe tbody tr th {\n",
       "        vertical-align: top;\n",
       "    }\n",
       "\n",
       "    .dataframe thead th {\n",
       "        text-align: right;\n",
       "    }\n",
       "</style>\n",
       "<table border=\"1\" class=\"dataframe\">\n",
       "  <thead>\n",
       "    <tr style=\"text-align: right;\">\n",
       "      <th></th>\n",
       "      <th>Name</th>\n",
       "      <th>Platform</th>\n",
       "      <th>Year_of_Release</th>\n",
       "      <th>Genre</th>\n",
       "      <th>NA_sales</th>\n",
       "      <th>EU_sales</th>\n",
       "      <th>JP_sales</th>\n",
       "      <th>Other_sales</th>\n",
       "      <th>Critic_Score</th>\n",
       "      <th>User_Score</th>\n",
       "      <th>Rating</th>\n",
       "    </tr>\n",
       "  </thead>\n",
       "  <tbody>\n",
       "    <tr>\n",
       "      <th>0</th>\n",
       "      <td>Wii Sports</td>\n",
       "      <td>Wii</td>\n",
       "      <td>2006.0</td>\n",
       "      <td>Sports</td>\n",
       "      <td>41.36</td>\n",
       "      <td>28.96</td>\n",
       "      <td>3.77</td>\n",
       "      <td>8.45</td>\n",
       "      <td>76.0</td>\n",
       "      <td>8</td>\n",
       "      <td>E</td>\n",
       "    </tr>\n",
       "    <tr>\n",
       "      <th>1</th>\n",
       "      <td>Super Mario Bros.</td>\n",
       "      <td>NES</td>\n",
       "      <td>1985.0</td>\n",
       "      <td>Platform</td>\n",
       "      <td>29.08</td>\n",
       "      <td>3.58</td>\n",
       "      <td>6.81</td>\n",
       "      <td>0.77</td>\n",
       "      <td>NaN</td>\n",
       "      <td>NaN</td>\n",
       "      <td>NaN</td>\n",
       "    </tr>\n",
       "    <tr>\n",
       "      <th>2</th>\n",
       "      <td>Mario Kart Wii</td>\n",
       "      <td>Wii</td>\n",
       "      <td>2008.0</td>\n",
       "      <td>Racing</td>\n",
       "      <td>15.68</td>\n",
       "      <td>12.76</td>\n",
       "      <td>3.79</td>\n",
       "      <td>3.29</td>\n",
       "      <td>82.0</td>\n",
       "      <td>8.3</td>\n",
       "      <td>E</td>\n",
       "    </tr>\n",
       "    <tr>\n",
       "      <th>3</th>\n",
       "      <td>Wii Sports Resort</td>\n",
       "      <td>Wii</td>\n",
       "      <td>2009.0</td>\n",
       "      <td>Sports</td>\n",
       "      <td>15.61</td>\n",
       "      <td>10.93</td>\n",
       "      <td>3.28</td>\n",
       "      <td>2.95</td>\n",
       "      <td>80.0</td>\n",
       "      <td>8</td>\n",
       "      <td>E</td>\n",
       "    </tr>\n",
       "    <tr>\n",
       "      <th>4</th>\n",
       "      <td>Pokemon Red/Pokemon Blue</td>\n",
       "      <td>GB</td>\n",
       "      <td>1996.0</td>\n",
       "      <td>Role-Playing</td>\n",
       "      <td>11.27</td>\n",
       "      <td>8.89</td>\n",
       "      <td>10.22</td>\n",
       "      <td>1.00</td>\n",
       "      <td>NaN</td>\n",
       "      <td>NaN</td>\n",
       "      <td>NaN</td>\n",
       "    </tr>\n",
       "    <tr>\n",
       "      <th>5</th>\n",
       "      <td>Tetris</td>\n",
       "      <td>GB</td>\n",
       "      <td>1989.0</td>\n",
       "      <td>Puzzle</td>\n",
       "      <td>23.20</td>\n",
       "      <td>2.26</td>\n",
       "      <td>4.22</td>\n",
       "      <td>0.58</td>\n",
       "      <td>NaN</td>\n",
       "      <td>NaN</td>\n",
       "      <td>NaN</td>\n",
       "    </tr>\n",
       "    <tr>\n",
       "      <th>6</th>\n",
       "      <td>New Super Mario Bros.</td>\n",
       "      <td>DS</td>\n",
       "      <td>2006.0</td>\n",
       "      <td>Platform</td>\n",
       "      <td>11.28</td>\n",
       "      <td>9.14</td>\n",
       "      <td>6.50</td>\n",
       "      <td>2.88</td>\n",
       "      <td>89.0</td>\n",
       "      <td>8.5</td>\n",
       "      <td>E</td>\n",
       "    </tr>\n",
       "    <tr>\n",
       "      <th>7</th>\n",
       "      <td>Wii Play</td>\n",
       "      <td>Wii</td>\n",
       "      <td>2006.0</td>\n",
       "      <td>Misc</td>\n",
       "      <td>13.96</td>\n",
       "      <td>9.18</td>\n",
       "      <td>2.93</td>\n",
       "      <td>2.84</td>\n",
       "      <td>58.0</td>\n",
       "      <td>6.6</td>\n",
       "      <td>E</td>\n",
       "    </tr>\n",
       "    <tr>\n",
       "      <th>8</th>\n",
       "      <td>New Super Mario Bros. Wii</td>\n",
       "      <td>Wii</td>\n",
       "      <td>2009.0</td>\n",
       "      <td>Platform</td>\n",
       "      <td>14.44</td>\n",
       "      <td>6.94</td>\n",
       "      <td>4.70</td>\n",
       "      <td>2.24</td>\n",
       "      <td>87.0</td>\n",
       "      <td>8.4</td>\n",
       "      <td>E</td>\n",
       "    </tr>\n",
       "    <tr>\n",
       "      <th>9</th>\n",
       "      <td>Duck Hunt</td>\n",
       "      <td>NES</td>\n",
       "      <td>1984.0</td>\n",
       "      <td>Shooter</td>\n",
       "      <td>26.93</td>\n",
       "      <td>0.63</td>\n",
       "      <td>0.28</td>\n",
       "      <td>0.47</td>\n",
       "      <td>NaN</td>\n",
       "      <td>NaN</td>\n",
       "      <td>NaN</td>\n",
       "    </tr>\n",
       "  </tbody>\n",
       "</table>\n",
       "</div>"
      ],
      "text/plain": [
       "                        Name Platform  Year_of_Release         Genre  \\\n",
       "0                 Wii Sports      Wii           2006.0        Sports   \n",
       "1          Super Mario Bros.      NES           1985.0      Platform   \n",
       "2             Mario Kart Wii      Wii           2008.0        Racing   \n",
       "3          Wii Sports Resort      Wii           2009.0        Sports   \n",
       "4   Pokemon Red/Pokemon Blue       GB           1996.0  Role-Playing   \n",
       "5                     Tetris       GB           1989.0        Puzzle   \n",
       "6      New Super Mario Bros.       DS           2006.0      Platform   \n",
       "7                   Wii Play      Wii           2006.0          Misc   \n",
       "8  New Super Mario Bros. Wii      Wii           2009.0      Platform   \n",
       "9                  Duck Hunt      NES           1984.0       Shooter   \n",
       "\n",
       "   NA_sales  EU_sales  JP_sales  Other_sales  Critic_Score User_Score Rating  \n",
       "0     41.36     28.96      3.77         8.45          76.0          8      E  \n",
       "1     29.08      3.58      6.81         0.77           NaN        NaN    NaN  \n",
       "2     15.68     12.76      3.79         3.29          82.0        8.3      E  \n",
       "3     15.61     10.93      3.28         2.95          80.0          8      E  \n",
       "4     11.27      8.89     10.22         1.00           NaN        NaN    NaN  \n",
       "5     23.20      2.26      4.22         0.58           NaN        NaN    NaN  \n",
       "6     11.28      9.14      6.50         2.88          89.0        8.5      E  \n",
       "7     13.96      9.18      2.93         2.84          58.0        6.6      E  \n",
       "8     14.44      6.94      4.70         2.24          87.0        8.4      E  \n",
       "9     26.93      0.63      0.28         0.47           NaN        NaN    NaN  "
      ]
     },
     "execution_count": 3,
     "metadata": {},
     "output_type": "execute_result"
    }
   ],
   "source": [
    "dataset.head(10)"
   ]
  },
  {
   "cell_type": "code",
   "execution_count": 4,
   "metadata": {},
   "outputs": [
    {
     "name": "stdout",
     "output_type": "stream",
     "text": [
      "<class 'pandas.core.frame.DataFrame'>\n",
      "RangeIndex: 16715 entries, 0 to 16714\n",
      "Data columns (total 11 columns):\n",
      " #   Column           Non-Null Count  Dtype  \n",
      "---  ------           --------------  -----  \n",
      " 0   Name             16713 non-null  object \n",
      " 1   Platform         16715 non-null  object \n",
      " 2   Year_of_Release  16446 non-null  float64\n",
      " 3   Genre            16713 non-null  object \n",
      " 4   NA_sales         16715 non-null  float64\n",
      " 5   EU_sales         16715 non-null  float64\n",
      " 6   JP_sales         16715 non-null  float64\n",
      " 7   Other_sales      16715 non-null  float64\n",
      " 8   Critic_Score     8137 non-null   float64\n",
      " 9   User_Score       10014 non-null  object \n",
      " 10  Rating           9949 non-null   object \n",
      "dtypes: float64(6), object(5)\n",
      "memory usage: 1.4+ MB\n"
     ]
    }
   ],
   "source": [
    "dataset.info()"
   ]
  },
  {
   "cell_type": "markdown",
   "metadata": {},
   "source": [
    "Se puede observar alguna cantidad de datos ausentes o NaN  en las siguientes filas:\n",
    "- Name\n",
    "- Year_of_Release\n",
    "- Genre\n",
    "- Critic_Score\n",
    "- User_Score\n",
    "- Rating"
   ]
  },
  {
   "cell_type": "markdown",
   "metadata": {},
   "source": [
    "<div class=\"alert alert-block alert-success\">\n",
    "<b>Reviewer's comment</b> <a class=\"tocSkip\"></a>\n",
    "\n",
    "Muy bien, usaste correctamente las funciones de pandas para explorar los datos.\n",
    "</div>"
   ]
  },
  {
   "cell_type": "markdown",
   "metadata": {},
   "source": [
    "#### Preparación de los datos"
   ]
  },
  {
   "cell_type": "markdown",
   "metadata": {},
   "source": [
    "##### Cambio de los nombres de las columnas a minúsculas."
   ]
  },
  {
   "cell_type": "code",
   "execution_count": 5,
   "metadata": {},
   "outputs": [],
   "source": [
    "dataset = dataset.rename(\n",
    "    columns={\n",
    "    'Name':'name',\n",
    "    'Platform':'platform',\n",
    "    'Year_of_Release':'year_of_release',\n",
    "    'Genre':'genre',\n",
    "    'NA_sales':'na_sales',\n",
    "    'EU_sales':'eu_sales',\n",
    "    'JP_sales':'jp_sales',\n",
    "    'Other_sales':'other_sales',\n",
    "    'Critic_Score':'critic_score',\n",
    "    'User_Score':'user_score',\n",
    "    'Rating':'rating'}\n",
    "              )"
   ]
  },
  {
   "cell_type": "code",
   "execution_count": 6,
   "metadata": {},
   "outputs": [
    {
     "data": {
      "text/plain": [
       "Index(['name', 'platform', 'year_of_release', 'genre', 'na_sales', 'eu_sales',\n",
       "       'jp_sales', 'other_sales', 'critic_score', 'user_score', 'rating'],\n",
       "      dtype='object')"
      ]
     },
     "execution_count": 6,
     "metadata": {},
     "output_type": "execute_result"
    }
   ],
   "source": [
    "dataset.columns"
   ]
  },
  {
   "cell_type": "markdown",
   "metadata": {},
   "source": [
    "<div class=\"alert alert-block alert-warning\">\n",
    "<b>Reviewer's comment</b> <a class=\"tocSkip\"></a>\n",
    "\n",
    "Muy bien, también se puede usar el método `.str.lower()` para convertir todas las columnas a minusculas.\n",
    "</div>"
   ]
  },
  {
   "cell_type": "markdown",
   "metadata": {},
   "source": [
    "##### Conversión de los tipos de datos"
   ]
  },
  {
   "cell_type": "code",
   "execution_count": 7,
   "metadata": {},
   "outputs": [],
   "source": [
    "dataset['user_score'] = pd.to_numeric(dataset['user_score'], errors='coerce')"
   ]
  },
  {
   "cell_type": "code",
   "execution_count": 8,
   "metadata": {
    "scrolled": true
   },
   "outputs": [
    {
     "data": {
      "text/plain": [
       "dtype('float64')"
      ]
     },
     "execution_count": 8,
     "metadata": {},
     "output_type": "execute_result"
    }
   ],
   "source": [
    "dataset['user_score'].dtypes"
   ]
  },
  {
   "cell_type": "markdown",
   "metadata": {},
   "source": [
    "<div class=\"alert alert-block alert-success\">\n",
    "<b>Reviewer's comment</b> <a class=\"tocSkip\"></a>\n",
    "\n",
    "Convertiste correctamente los datos.\n",
    "</div>"
   ]
  },
  {
   "cell_type": "markdown",
   "metadata": {},
   "source": [
    "Solo he podido cambiar user_score de object a float, aunque me hubiera gustado también cambiar year_of_release a entero esto no es posible debido a la cantidad de datos ausentes, por lo que realizaré el cambio posteriormente."
   ]
  },
  {
   "cell_type": "markdown",
   "metadata": {},
   "source": [
    "##### Tratamiento de valores ausentes"
   ]
  },
  {
   "cell_type": "code",
   "execution_count": 9,
   "metadata": {},
   "outputs": [
    {
     "data": {
      "text/plain": [
       "name                  2\n",
       "platform              0\n",
       "year_of_release     269\n",
       "genre                 2\n",
       "na_sales              0\n",
       "eu_sales              0\n",
       "jp_sales              0\n",
       "other_sales           0\n",
       "critic_score       8578\n",
       "user_score         9125\n",
       "rating             6766\n",
       "dtype: int64"
      ]
     },
     "execution_count": 9,
     "metadata": {},
     "output_type": "execute_result"
    }
   ],
   "source": [
    "dataset.isna().sum()"
   ]
  },
  {
   "cell_type": "markdown",
   "metadata": {},
   "source": [
    "##### Valores ausentes en critic_score"
   ]
  },
  {
   "cell_type": "code",
   "execution_count": 10,
   "metadata": {
    "scrolled": true
   },
   "outputs": [
    {
     "data": {
      "text/plain": [
       "array([[<AxesSubplot:title={'center':'critic_score'}>]], dtype=object)"
      ]
     },
     "execution_count": 10,
     "metadata": {},
     "output_type": "execute_result"
    },
    {
     "data": {
      "image/png": "[encoded data removed]",
      "text/plain": [
       "<Figure size 432x288 with 1 Axes>"
      ]
     },
     "metadata": {
      "needs_background": "light"
     },
     "output_type": "display_data"
    }
   ],
   "source": [
    "dataset.hist('critic_score',bins=100)"
   ]
  },
  {
   "cell_type": "markdown",
   "metadata": {},
   "source": [
    "<div class=\"alert alert-block alert-success\">\n",
    "<b>Reviewer's comment</b> <a class=\"tocSkip\"></a>\n",
    "\n",
    "Muy bien, el histograma muestra correctamente la distribución de la calificación de los críticos.\n",
    "</div>"
   ]
  },
  {
   "cell_type": "markdown",
   "metadata": {},
   "source": [
    "<div class=\"alert alert-block alert-warning\">\n",
    "<b>Reviewer's comment</b> <a class=\"tocSkip\"></a>\n",
    "\n",
    "También podrías reducir la cantidad de bins para que desaparezcan los espacios vacíos que se ven en la gráfica.\n",
    "</div>"
   ]
  },
  {
   "cell_type": "code",
   "execution_count": 11,
   "metadata": {},
   "outputs": [
    {
     "data": {
      "text/plain": [
       "count    8137.000000\n",
       "mean       68.967679\n",
       "std        13.938165\n",
       "min        13.000000\n",
       "25%        60.000000\n",
       "50%        71.000000\n",
       "75%        79.000000\n",
       "max        98.000000\n",
       "Name: critic_score, dtype: float64"
      ]
     },
     "execution_count": 11,
     "metadata": {},
     "output_type": "execute_result"
    }
   ],
   "source": [
    "dataset['critic_score'].describe()"
   ]
  },
  {
   "cell_type": "code",
   "execution_count": 12,
   "metadata": {},
   "outputs": [],
   "source": [
    "data_by_platform = dataset.pivot_table(index=['platform', 'genre'] ,values ='critic_score',aggfunc='median')"
   ]
  },
  {
   "cell_type": "code",
   "execution_count": 13,
   "metadata": {},
   "outputs": [],
   "source": [
    "data_by_platform.columns = ['critic_score_median']"
   ]
  },
  {
   "cell_type": "code",
   "execution_count": 14,
   "metadata": {
    "scrolled": true
   },
   "outputs": [],
   "source": [
    "data_by_platform.reset_index(inplace=True)"
   ]
  },
  {
   "cell_type": "code",
   "execution_count": 15,
   "metadata": {},
   "outputs": [
    {
     "data": {
      "text/html": [
       "<div>\n",
       "<style scoped>\n",
       "    .dataframe tbody tr th:only-of-type {\n",
       "        vertical-align: middle;\n",
       "    }\n",
       "\n",
       "    .dataframe tbody tr th {\n",
       "        vertical-align: top;\n",
       "    }\n",
       "\n",
       "    .dataframe thead th {\n",
       "        text-align: right;\n",
       "    }\n",
       "</style>\n",
       "<table border=\"1\" class=\"dataframe\">\n",
       "  <thead>\n",
       "    <tr style=\"text-align: right;\">\n",
       "      <th></th>\n",
       "      <th>platform</th>\n",
       "      <th>genre</th>\n",
       "      <th>critic_score_median</th>\n",
       "    </tr>\n",
       "  </thead>\n",
       "  <tbody>\n",
       "    <tr>\n",
       "      <th>0</th>\n",
       "      <td>3DS</td>\n",
       "      <td>Action</td>\n",
       "      <td>63.0</td>\n",
       "    </tr>\n",
       "    <tr>\n",
       "      <th>1</th>\n",
       "      <td>3DS</td>\n",
       "      <td>Adventure</td>\n",
       "      <td>63.5</td>\n",
       "    </tr>\n",
       "    <tr>\n",
       "      <th>2</th>\n",
       "      <td>3DS</td>\n",
       "      <td>Fighting</td>\n",
       "      <td>64.0</td>\n",
       "    </tr>\n",
       "    <tr>\n",
       "      <th>3</th>\n",
       "      <td>3DS</td>\n",
       "      <td>Misc</td>\n",
       "      <td>71.5</td>\n",
       "    </tr>\n",
       "    <tr>\n",
       "      <th>4</th>\n",
       "      <td>3DS</td>\n",
       "      <td>Platform</td>\n",
       "      <td>71.0</td>\n",
       "    </tr>\n",
       "    <tr>\n",
       "      <th>...</th>\n",
       "      <td>...</td>\n",
       "      <td>...</td>\n",
       "      <td>...</td>\n",
       "    </tr>\n",
       "    <tr>\n",
       "      <th>192</th>\n",
       "      <td>XOne</td>\n",
       "      <td>Role-Playing</td>\n",
       "      <td>83.0</td>\n",
       "    </tr>\n",
       "    <tr>\n",
       "      <th>193</th>\n",
       "      <td>XOne</td>\n",
       "      <td>Shooter</td>\n",
       "      <td>80.0</td>\n",
       "    </tr>\n",
       "    <tr>\n",
       "      <th>194</th>\n",
       "      <td>XOne</td>\n",
       "      <td>Simulation</td>\n",
       "      <td>59.0</td>\n",
       "    </tr>\n",
       "    <tr>\n",
       "      <th>195</th>\n",
       "      <td>XOne</td>\n",
       "      <td>Sports</td>\n",
       "      <td>78.0</td>\n",
       "    </tr>\n",
       "    <tr>\n",
       "      <th>196</th>\n",
       "      <td>XOne</td>\n",
       "      <td>Strategy</td>\n",
       "      <td>70.0</td>\n",
       "    </tr>\n",
       "  </tbody>\n",
       "</table>\n",
       "<p>197 rows × 3 columns</p>\n",
       "</div>"
      ],
      "text/plain": [
       "    platform         genre  critic_score_median\n",
       "0        3DS        Action                 63.0\n",
       "1        3DS     Adventure                 63.5\n",
       "2        3DS      Fighting                 64.0\n",
       "3        3DS          Misc                 71.5\n",
       "4        3DS      Platform                 71.0\n",
       "..       ...           ...                  ...\n",
       "192     XOne  Role-Playing                 83.0\n",
       "193     XOne       Shooter                 80.0\n",
       "194     XOne    Simulation                 59.0\n",
       "195     XOne        Sports                 78.0\n",
       "196     XOne      Strategy                 70.0\n",
       "\n",
       "[197 rows x 3 columns]"
      ]
     },
     "execution_count": 15,
     "metadata": {},
     "output_type": "execute_result"
    }
   ],
   "source": [
    "data_by_platform"
   ]
  },
  {
   "cell_type": "code",
   "execution_count": 16,
   "metadata": {},
   "outputs": [],
   "source": [
    "dataset['critic_score'].fillna('unknown',inplace=True)"
   ]
  },
  {
   "cell_type": "code",
   "execution_count": 17,
   "metadata": {},
   "outputs": [],
   "source": [
    "def replace_critic_score(row):\n",
    "    critic_score_1=row['critic_score']\n",
    "    if critic_score_1=='unknown':\n",
    "        platform_1= row['platform']\n",
    "        genre_1= row['genre']\n",
    "\n",
    "        replacement_value=data_by_platform.loc[(data_by_platform['genre']==genre_1)&(data_by_platform['platform']==platform_1),'critic_score_median'].median()\n",
    "        return replacement_value\n",
    "\n",
    "    else:\n",
    "        return critic_score_1"
   ]
  },
  {
   "cell_type": "markdown",
   "metadata": {},
   "source": [
    "<div class=\"alert alert-block alert-success\">\n",
    "<b>Reviewer's comment</b> <a class=\"tocSkip\"></a>\n",
    "\n",
    "Definiste correctamente la función que se usará en el apply, muy bien.\n",
    "</div>"
   ]
  },
  {
   "cell_type": "code",
   "execution_count": 18,
   "metadata": {},
   "outputs": [],
   "source": [
    "dataset['critic_score']=dataset.apply(replace_critic_score,axis=1)"
   ]
  },
  {
   "cell_type": "code",
   "execution_count": 19,
   "metadata": {
    "scrolled": true
   },
   "outputs": [
    {
     "data": {
      "text/plain": [
       "name                  2\n",
       "platform              0\n",
       "year_of_release     269\n",
       "genre                 2\n",
       "na_sales              0\n",
       "eu_sales              0\n",
       "jp_sales              0\n",
       "other_sales           0\n",
       "critic_score       1134\n",
       "user_score         9125\n",
       "rating             6766\n",
       "dtype: int64"
      ]
     },
     "execution_count": 19,
     "metadata": {},
     "output_type": "execute_result"
    }
   ],
   "source": [
    "dataset.isna().sum()"
   ]
  },
  {
   "cell_type": "markdown",
   "metadata": {},
   "source": [
    "- Se eliminaron 7,444 valores ausentes de la columna critic_score utilizando una función de reemplazo por mediana basada en género y plataforma, resultando desde un total de 8,578 a un total restante de 1,134.\n",
    "- Decidí rellenar los valores ausentes de esta manera para no perder la fuente de datos, y no perder la distribución de los datos de como se tiene inicialmente.\n",
    "- Alguna razón para no tener estos datos disponibles puede ser captura incorrecta o faltante desde los críticos."
   ]
  },
  {
   "cell_type": "markdown",
   "metadata": {},
   "source": [
    "##### Valores ausentes en user_score"
   ]
  },
  {
   "cell_type": "code",
   "execution_count": 20,
   "metadata": {
    "scrolled": false
   },
   "outputs": [
    {
     "data": {
      "text/plain": [
       "array([[<AxesSubplot:title={'center':'user_score'}>]], dtype=object)"
      ]
     },
     "execution_count": 20,
     "metadata": {},
     "output_type": "execute_result"
    },
    {
     "data": {
      "image/png": "[encoded data removed]",
      "text/plain": [
       "<Figure size 432x288 with 1 Axes>"
      ]
     },
     "metadata": {
      "needs_background": "light"
     },
     "output_type": "display_data"
    }
   ],
   "source": [
    "dataset.hist('user_score',bins=100)"
   ]
  },
  {
   "cell_type": "code",
   "execution_count": 21,
   "metadata": {},
   "outputs": [
    {
     "data": {
      "text/plain": [
       "count    7590.000000\n",
       "mean        7.125046\n",
       "std         1.500006\n",
       "min         0.000000\n",
       "25%         6.400000\n",
       "50%         7.500000\n",
       "75%         8.200000\n",
       "max         9.700000\n",
       "Name: user_score, dtype: float64"
      ]
     },
     "execution_count": 21,
     "metadata": {},
     "output_type": "execute_result"
    }
   ],
   "source": [
    "dataset['user_score'].describe()"
   ]
  },
  {
   "cell_type": "code",
   "execution_count": 22,
   "metadata": {},
   "outputs": [],
   "source": [
    "data_by_platform_2 = dataset.pivot_table(index=['platform', 'genre'] ,values ='user_score',aggfunc='median')"
   ]
  },
  {
   "cell_type": "code",
   "execution_count": 23,
   "metadata": {},
   "outputs": [],
   "source": [
    "dataset['user_score'].fillna('unknown',inplace=True)"
   ]
  },
  {
   "cell_type": "code",
   "execution_count": 24,
   "metadata": {},
   "outputs": [],
   "source": [
    "data_by_platform_2.columns = ['user_score_median']"
   ]
  },
  {
   "cell_type": "code",
   "execution_count": 25,
   "metadata": {},
   "outputs": [],
   "source": [
    "data_by_platform_2.reset_index(inplace=True)"
   ]
  },
  {
   "cell_type": "code",
   "execution_count": 26,
   "metadata": {},
   "outputs": [
    {
     "data": {
      "text/html": [
       "<div>\n",
       "<style scoped>\n",
       "    .dataframe tbody tr th:only-of-type {\n",
       "        vertical-align: middle;\n",
       "    }\n",
       "\n",
       "    .dataframe tbody tr th {\n",
       "        vertical-align: top;\n",
       "    }\n",
       "\n",
       "    .dataframe thead th {\n",
       "        text-align: right;\n",
       "    }\n",
       "</style>\n",
       "<table border=\"1\" class=\"dataframe\">\n",
       "  <thead>\n",
       "    <tr style=\"text-align: right;\">\n",
       "      <th></th>\n",
       "      <th>platform</th>\n",
       "      <th>genre</th>\n",
       "      <th>user_score_median</th>\n",
       "    </tr>\n",
       "  </thead>\n",
       "  <tbody>\n",
       "    <tr>\n",
       "      <th>0</th>\n",
       "      <td>3DS</td>\n",
       "      <td>Action</td>\n",
       "      <td>6.65</td>\n",
       "    </tr>\n",
       "    <tr>\n",
       "      <th>1</th>\n",
       "      <td>3DS</td>\n",
       "      <td>Adventure</td>\n",
       "      <td>7.00</td>\n",
       "    </tr>\n",
       "    <tr>\n",
       "      <th>2</th>\n",
       "      <td>3DS</td>\n",
       "      <td>Fighting</td>\n",
       "      <td>6.60</td>\n",
       "    </tr>\n",
       "    <tr>\n",
       "      <th>3</th>\n",
       "      <td>3DS</td>\n",
       "      <td>Misc</td>\n",
       "      <td>7.30</td>\n",
       "    </tr>\n",
       "    <tr>\n",
       "      <th>4</th>\n",
       "      <td>3DS</td>\n",
       "      <td>Platform</td>\n",
       "      <td>7.15</td>\n",
       "    </tr>\n",
       "    <tr>\n",
       "      <th>...</th>\n",
       "      <td>...</td>\n",
       "      <td>...</td>\n",
       "      <td>...</td>\n",
       "    </tr>\n",
       "    <tr>\n",
       "      <th>193</th>\n",
       "      <td>XOne</td>\n",
       "      <td>Role-Playing</td>\n",
       "      <td>7.20</td>\n",
       "    </tr>\n",
       "    <tr>\n",
       "      <th>194</th>\n",
       "      <td>XOne</td>\n",
       "      <td>Shooter</td>\n",
       "      <td>6.90</td>\n",
       "    </tr>\n",
       "    <tr>\n",
       "      <th>195</th>\n",
       "      <td>XOne</td>\n",
       "      <td>Simulation</td>\n",
       "      <td>6.30</td>\n",
       "    </tr>\n",
       "    <tr>\n",
       "      <th>196</th>\n",
       "      <td>XOne</td>\n",
       "      <td>Sports</td>\n",
       "      <td>5.85</td>\n",
       "    </tr>\n",
       "    <tr>\n",
       "      <th>197</th>\n",
       "      <td>XOne</td>\n",
       "      <td>Strategy</td>\n",
       "      <td>7.50</td>\n",
       "    </tr>\n",
       "  </tbody>\n",
       "</table>\n",
       "<p>198 rows × 3 columns</p>\n",
       "</div>"
      ],
      "text/plain": [
       "    platform         genre  user_score_median\n",
       "0        3DS        Action               6.65\n",
       "1        3DS     Adventure               7.00\n",
       "2        3DS      Fighting               6.60\n",
       "3        3DS          Misc               7.30\n",
       "4        3DS      Platform               7.15\n",
       "..       ...           ...                ...\n",
       "193     XOne  Role-Playing               7.20\n",
       "194     XOne       Shooter               6.90\n",
       "195     XOne    Simulation               6.30\n",
       "196     XOne        Sports               5.85\n",
       "197     XOne      Strategy               7.50\n",
       "\n",
       "[198 rows x 3 columns]"
      ]
     },
     "execution_count": 26,
     "metadata": {},
     "output_type": "execute_result"
    }
   ],
   "source": [
    "data_by_platform_2"
   ]
  },
  {
   "cell_type": "code",
   "execution_count": 27,
   "metadata": {},
   "outputs": [],
   "source": [
    "def replace_user_score(row):\n",
    "    user_score_1=row['user_score']\n",
    "    if user_score_1=='unknown':\n",
    "        platform_1= row['platform']\n",
    "        genre_1= row['genre']\n",
    "        replacement_value=data_by_platform_2.loc[(data_by_platform_2['genre']==genre_1)&(data_by_platform_2['platform']==platform_1),'user_score_median'].median()\n",
    "        return replacement_value\n",
    "    else:\n",
    "        return user_score_1"
   ]
  },
  {
   "cell_type": "code",
   "execution_count": 28,
   "metadata": {},
   "outputs": [],
   "source": [
    "dataset['user_score']=dataset.apply(replace_user_score,axis=1)"
   ]
  },
  {
   "cell_type": "code",
   "execution_count": 29,
   "metadata": {},
   "outputs": [
    {
     "data": {
      "text/plain": [
       "name                  2\n",
       "platform              0\n",
       "year_of_release     269\n",
       "genre                 2\n",
       "na_sales              0\n",
       "eu_sales              0\n",
       "jp_sales              0\n",
       "other_sales           0\n",
       "critic_score       1134\n",
       "user_score         1127\n",
       "rating             6766\n",
       "dtype: int64"
      ]
     },
     "execution_count": 29,
     "metadata": {},
     "output_type": "execute_result"
    }
   ],
   "source": [
    "dataset.isna().sum()"
   ]
  },
  {
   "cell_type": "markdown",
   "metadata": {},
   "source": [
    "- Se eliminaron 7,998 valores ausentes de la columna user_score utilizando una función de reemplazo por mediana basada en género y plataforma, desde un total de 9,125 a un total restante de 1,127.\n",
    "- Decidí rellenar los valores ausentes de esta manera para no perder la fuente de datos, y no perder la distribución de los datos de como se tiene inicialmente.\n",
    "- Alguna razón para no tener estos datos disponibles puede ser captura incorrecta o faltante desde los usuarios."
   ]
  },
  {
   "cell_type": "markdown",
   "metadata": {},
   "source": [
    "<div class=\"alert alert-block alert-success\">\n",
    "<b>Reviewer's comment</b> <a class=\"tocSkip\"></a>\n",
    "\n",
    "Perfecto, al completar los datos de esta forma se evita perder los datos.\n",
    "</div>"
   ]
  },
  {
   "cell_type": "markdown",
   "metadata": {},
   "source": [
    "##### Valores ausentes en rating"
   ]
  },
  {
   "cell_type": "code",
   "execution_count": 30,
   "metadata": {},
   "outputs": [
    {
     "data": {
      "text/plain": [
       "<AxesSubplot:>"
      ]
     },
     "execution_count": 30,
     "metadata": {},
     "output_type": "execute_result"
    },
    {
     "data": {
      "image/png": "[encoded data removed]",
      "text/plain": [
       "<Figure size 432x288 with 1 Axes>"
      ]
     },
     "metadata": {
      "needs_background": "light"
     },
     "output_type": "display_data"
    }
   ],
   "source": [
    "dataset['rating'].value_counts().plot(kind='bar')"
   ]
  },
  {
   "cell_type": "markdown",
   "metadata": {},
   "source": [
    "<div class=\"alert alert-block alert-success\">\n",
    "<b>Reviewer's comment</b> <a class=\"tocSkip\"></a>\n",
    "\n",
    "Bien, ordenaste los datos en la gráfica de barras.\n",
    "</div>"
   ]
  },
  {
   "cell_type": "code",
   "execution_count": 31,
   "metadata": {},
   "outputs": [
    {
     "data": {
      "text/plain": [
       "count     9949\n",
       "unique       8\n",
       "top          E\n",
       "freq      3990\n",
       "Name: rating, dtype: object"
      ]
     },
     "execution_count": 31,
     "metadata": {},
     "output_type": "execute_result"
    }
   ],
   "source": [
    "dataset['rating'].describe()"
   ]
  },
  {
   "cell_type": "code",
   "execution_count": 32,
   "metadata": {},
   "outputs": [],
   "source": [
    "data_by_platform_3 = dataset.pivot_table(index=['genre', 'rating'] ,values ='platform',aggfunc='count')"
   ]
  },
  {
   "cell_type": "code",
   "execution_count": 33,
   "metadata": {},
   "outputs": [],
   "source": [
    "dataset['rating'].fillna('unknown',inplace=True)"
   ]
  },
  {
   "cell_type": "code",
   "execution_count": 34,
   "metadata": {},
   "outputs": [],
   "source": [
    "data_by_platform_3.reset_index(inplace=True)"
   ]
  },
  {
   "cell_type": "code",
   "execution_count": 35,
   "metadata": {},
   "outputs": [
    {
     "data": {
      "text/html": [
       "<div>\n",
       "<style scoped>\n",
       "    .dataframe tbody tr th:only-of-type {\n",
       "        vertical-align: middle;\n",
       "    }\n",
       "\n",
       "    .dataframe tbody tr th {\n",
       "        vertical-align: top;\n",
       "    }\n",
       "\n",
       "    .dataframe thead th {\n",
       "        text-align: right;\n",
       "    }\n",
       "</style>\n",
       "<table border=\"1\" class=\"dataframe\">\n",
       "  <thead>\n",
       "    <tr style=\"text-align: right;\">\n",
       "      <th></th>\n",
       "      <th>genre</th>\n",
       "      <th>rating</th>\n",
       "      <th>platform</th>\n",
       "    </tr>\n",
       "  </thead>\n",
       "  <tbody>\n",
       "    <tr>\n",
       "      <th>0</th>\n",
       "      <td>Action</td>\n",
       "      <td>AO</td>\n",
       "      <td>1</td>\n",
       "    </tr>\n",
       "    <tr>\n",
       "      <th>1</th>\n",
       "      <td>Action</td>\n",
       "      <td>E</td>\n",
       "      <td>416</td>\n",
       "    </tr>\n",
       "    <tr>\n",
       "      <th>2</th>\n",
       "      <td>Action</td>\n",
       "      <td>E10+</td>\n",
       "      <td>481</td>\n",
       "    </tr>\n",
       "    <tr>\n",
       "      <th>3</th>\n",
       "      <td>Action</td>\n",
       "      <td>EC</td>\n",
       "      <td>1</td>\n",
       "    </tr>\n",
       "    <tr>\n",
       "      <th>4</th>\n",
       "      <td>Action</td>\n",
       "      <td>M</td>\n",
       "      <td>608</td>\n",
       "    </tr>\n",
       "    <tr>\n",
       "      <th>5</th>\n",
       "      <td>Action</td>\n",
       "      <td>T</td>\n",
       "      <td>681</td>\n",
       "    </tr>\n",
       "    <tr>\n",
       "      <th>6</th>\n",
       "      <td>Adventure</td>\n",
       "      <td>E</td>\n",
       "      <td>162</td>\n",
       "    </tr>\n",
       "    <tr>\n",
       "      <th>7</th>\n",
       "      <td>Adventure</td>\n",
       "      <td>E10+</td>\n",
       "      <td>68</td>\n",
       "    </tr>\n",
       "    <tr>\n",
       "      <th>8</th>\n",
       "      <td>Adventure</td>\n",
       "      <td>EC</td>\n",
       "      <td>2</td>\n",
       "    </tr>\n",
       "    <tr>\n",
       "      <th>9</th>\n",
       "      <td>Adventure</td>\n",
       "      <td>M</td>\n",
       "      <td>99</td>\n",
       "    </tr>\n",
       "  </tbody>\n",
       "</table>\n",
       "</div>"
      ],
      "text/plain": [
       "       genre rating  platform\n",
       "0     Action     AO         1\n",
       "1     Action      E       416\n",
       "2     Action   E10+       481\n",
       "3     Action     EC         1\n",
       "4     Action      M       608\n",
       "5     Action      T       681\n",
       "6  Adventure      E       162\n",
       "7  Adventure   E10+        68\n",
       "8  Adventure     EC         2\n",
       "9  Adventure      M        99"
      ]
     },
     "execution_count": 35,
     "metadata": {},
     "output_type": "execute_result"
    }
   ],
   "source": [
    "data_by_platform_3.head(10)"
   ]
  },
  {
   "cell_type": "code",
   "execution_count": 36,
   "metadata": {},
   "outputs": [],
   "source": [
    "def replace_rating(row):\n",
    "    rating_1=row['rating']\n",
    "    if rating_1=='unknown':\n",
    "        genre_1= row['genre']\n",
    "        replacement_value=data_by_platform_3.loc[(data_by_platform_3['genre']==genre_1),'rating'].max()\n",
    "        return replacement_value\n",
    "    else:\n",
    "        return rating_1"
   ]
  },
  {
   "cell_type": "code",
   "execution_count": 37,
   "metadata": {},
   "outputs": [],
   "source": [
    "dataset['rating']=dataset.apply(replace_rating,axis=1)"
   ]
  },
  {
   "cell_type": "code",
   "execution_count": 38,
   "metadata": {},
   "outputs": [
    {
     "data": {
      "text/plain": [
       "name                  2\n",
       "platform              0\n",
       "year_of_release     269\n",
       "genre                 2\n",
       "na_sales              0\n",
       "eu_sales              0\n",
       "jp_sales              0\n",
       "other_sales           0\n",
       "critic_score       1134\n",
       "user_score         1127\n",
       "rating                2\n",
       "dtype: int64"
      ]
     },
     "execution_count": 38,
     "metadata": {},
     "output_type": "execute_result"
    }
   ],
   "source": [
    "dataset.isna().sum()"
   ]
  },
  {
   "cell_type": "markdown",
   "metadata": {},
   "source": [
    "- Se eliminaron 6,764 valores ausentes de la columna rating utilizando una función de reemplazo por mediana basada en género, desde un total de 6,766 a un total restante de 2.\n",
    "- Decidí rellenar los valores ausentes de esta manera para no perder la fuente de datos, y no perder la distribución de los datos de como se tiene inicialmente.\n",
    "- Alguna razón para no tener estos datos disponibles puede ser captura incorrecta o faltante desde los creadores de los juegos."
   ]
  },
  {
   "cell_type": "markdown",
   "metadata": {},
   "source": [
    "##### Valores ausentes restantes"
   ]
  },
  {
   "cell_type": "code",
   "execution_count": 39,
   "metadata": {},
   "outputs": [],
   "source": [
    "dataset = dataset.dropna().reset_index()"
   ]
  },
  {
   "cell_type": "code",
   "execution_count": 40,
   "metadata": {},
   "outputs": [
    {
     "data": {
      "text/plain": [
       "index              0\n",
       "name               0\n",
       "platform           0\n",
       "year_of_release    0\n",
       "genre              0\n",
       "na_sales           0\n",
       "eu_sales           0\n",
       "jp_sales           0\n",
       "other_sales        0\n",
       "critic_score       0\n",
       "user_score         0\n",
       "rating             0\n",
       "dtype: int64"
      ]
     },
     "execution_count": 40,
     "metadata": {},
     "output_type": "execute_result"
    }
   ],
   "source": [
    "dataset.isna().sum()"
   ]
  },
  {
   "cell_type": "markdown",
   "metadata": {},
   "source": [
    "- He decidio eliminar el resto de datos ausentes que las funciones no han podido manejar debido a que es un porcentaje despreciable respecto al total de datos disponibles.\n",
    "- Finalmente procederé a cambiar el tipo de dato de year_of_release de float a int."
   ]
  },
  {
   "cell_type": "markdown",
   "metadata": {},
   "source": [
    "<div class=\"alert alert-block alert-warning\">\n",
    "<b>Reviewer's comment</b> <a class=\"tocSkip\"></a>\n",
    "\n",
    "Ok, solo faltaría indicar exactamente la cantidad de datos que se perdieron y el porcentaje que representa de los datos totales.\n",
    "</div>"
   ]
  },
  {
   "cell_type": "code",
   "execution_count": 41,
   "metadata": {},
   "outputs": [],
   "source": [
    "dataset['year_of_release']=dataset['year_of_release'].astype('int')"
   ]
  },
  {
   "cell_type": "markdown",
   "metadata": {},
   "source": [
    "##### Añadir columna para las ventas totales"
   ]
  },
  {
   "cell_type": "code",
   "execution_count": 42,
   "metadata": {},
   "outputs": [],
   "source": [
    "dataset['total_sales']=dataset['na_sales']+dataset['eu_sales']+dataset['jp_sales']+dataset['other_sales']"
   ]
  },
  {
   "cell_type": "code",
   "execution_count": 43,
   "metadata": {},
   "outputs": [
    {
     "data": {
      "text/plain": [
       "0    82.54\n",
       "1    35.52\n",
       "2    32.77\n",
       "3    29.80\n",
       "4    28.91\n",
       "5    28.32\n",
       "6    24.67\n",
       "7    23.21\n",
       "8    22.70\n",
       "9    21.82\n",
       "Name: total_sales, dtype: float64"
      ]
     },
     "execution_count": 43,
     "metadata": {},
     "output_type": "execute_result"
    }
   ],
   "source": [
    "dataset['total_sales'].head(10)"
   ]
  },
  {
   "cell_type": "markdown",
   "metadata": {},
   "source": [
    "#### Análisis de los datos"
   ]
  },
  {
   "cell_type": "code",
   "execution_count": 44,
   "metadata": {},
   "outputs": [],
   "source": [
    "dataset_count_platform = dataset.pivot_table(index='year_of_release', values='platform', aggfunc='count').sort_values('year_of_release')"
   ]
  },
  {
   "cell_type": "code",
   "execution_count": 45,
   "metadata": {},
   "outputs": [],
   "source": [
    "dataset_count_platform.reset_index(inplace=True)"
   ]
  },
  {
   "cell_type": "code",
   "execution_count": 46,
   "metadata": {
    "scrolled": false
   },
   "outputs": [
    {
     "data": {
      "text/plain": [
       "<AxesSubplot:xlabel='year_of_release'>"
      ]
     },
     "execution_count": 46,
     "metadata": {},
     "output_type": "execute_result"
    },
    {
     "data": {
      "image/png": "[encoded data removed]",
      "text/plain": [
       "<Figure size 432x288 with 1 Axes>"
      ]
     },
     "metadata": {
      "needs_background": "light"
     },
     "output_type": "display_data"
    }
   ],
   "source": [
    "dataset_count_platform.plot(x= 'year_of_release', y='platform', kind='bar')"
   ]
  },
  {
   "cell_type": "markdown",
   "metadata": {},
   "source": [
    "<div class=\"alert alert-block alert-success\">\n",
    "<b>Reviewer's comment</b> <a class=\"tocSkip\"></a>\n",
    "\n",
    "Buena gráfica. Al colocar los años en vertical se ven claramente.\n",
    "</div>"
   ]
  },
  {
   "cell_type": "markdown",
   "metadata": {},
   "source": [
    "El número de lanzamientos por año fue creciendo desde 1994 hasta llegar a un máximo en 2009 para luego caer hasta 2016."
   ]
  },
  {
   "cell_type": "markdown",
   "metadata": {},
   "source": [
    "##### Ventas anuales por plataforma"
   ]
  },
  {
   "cell_type": "code",
   "execution_count": 47,
   "metadata": {},
   "outputs": [],
   "source": [
    "sales_pivot = dataset.pivot_table(index=['platform'], values='total_sales',aggfunc='count')"
   ]
  },
  {
   "cell_type": "code",
   "execution_count": 48,
   "metadata": {},
   "outputs": [],
   "source": [
    "sales_pivot.reset_index(inplace=True)"
   ]
  },
  {
   "cell_type": "code",
   "execution_count": 49,
   "metadata": {
    "scrolled": true
   },
   "outputs": [
    {
     "data": {
      "text/plain": [
       "<AxesSubplot:xlabel='platform'>"
      ]
     },
     "execution_count": 49,
     "metadata": {},
     "output_type": "execute_result"
    },
    {
     "data": {
      "image/png": "[encoded data removed]",
      "text/plain": [
       "<Figure size 432x288 with 1 Axes>"
      ]
     },
     "metadata": {
      "needs_background": "light"
     },
     "output_type": "display_data"
    }
   ],
   "source": [
    "sales_pivot.sort_values(by='total_sales',ascending=False).plot(x= 'platform', y='total_sales', kind='bar')"
   ]
  },
  {
   "cell_type": "markdown",
   "metadata": {},
   "source": [
    "<div class=\"alert alert-block alert-warning\">\n",
    "<b>Reviewer's comment</b> <a class=\"tocSkip\"></a>\n",
    "\n",
    "Tu grpafica es buena, también podrías agregar otra muy parecida pero en lugar de los conteos incluir los porcentajes de ventas que representa cada plataforma con respecto del total.\n",
    "</div>"
   ]
  },
  {
   "cell_type": "markdown",
   "metadata": {},
   "source": [
    "El top 5 de ventas totales por plataforma está compuesto por PS2, DS, PS3, Wii, X360."
   ]
  },
  {
   "cell_type": "markdown",
   "metadata": {},
   "source": [
    "###### Ventas anuales para PS2"
   ]
  },
  {
   "cell_type": "code",
   "execution_count": 50,
   "metadata": {},
   "outputs": [],
   "source": [
    "sales_pivot_with_year = dataset.pivot_table(index=['platform','year_of_release'], values='total_sales',aggfunc='sum')"
   ]
  },
  {
   "cell_type": "code",
   "execution_count": 51,
   "metadata": {
    "scrolled": true
   },
   "outputs": [
    {
     "data": {
      "text/plain": [
       "<AxesSubplot:xlabel='platform,year_of_release'>"
      ]
     },
     "execution_count": 51,
     "metadata": {},
     "output_type": "execute_result"
    },
    {
     "data": {
      "image/png": "[encoded data removed]",
      "text/plain": [
       "<Figure size 432x288 with 1 Axes>"
      ]
     },
     "metadata": {
      "needs_background": "light"
     },
     "output_type": "display_data"
    }
   ],
   "source": [
    "sales_pivot_with_year.query('platform==\"PS2\"').plot(kind='bar')"
   ]
  },
  {
   "cell_type": "markdown",
   "metadata": {},
   "source": [
    "###### Ventas anuales para DS"
   ]
  },
  {
   "cell_type": "code",
   "execution_count": 52,
   "metadata": {},
   "outputs": [
    {
     "data": {
      "text/plain": [
       "<AxesSubplot:xlabel='platform,year_of_release'>"
      ]
     },
     "execution_count": 52,
     "metadata": {},
     "output_type": "execute_result"
    },
    {
     "data": {
      "image/png": "[encoded data removed]",
      "text/plain": [
       "<Figure size 432x288 with 1 Axes>"
      ]
     },
     "metadata": {
      "needs_background": "light"
     },
     "output_type": "display_data"
    }
   ],
   "source": [
    "sales_pivot_with_year.query('platform==\"DS\"').plot(kind='bar')"
   ]
  },
  {
   "cell_type": "markdown",
   "metadata": {},
   "source": [
    "###### Ventas anuales para PS3"
   ]
  },
  {
   "cell_type": "code",
   "execution_count": 53,
   "metadata": {
    "scrolled": true
   },
   "outputs": [
    {
     "data": {
      "text/plain": [
       "<AxesSubplot:xlabel='platform,year_of_release'>"
      ]
     },
     "execution_count": 53,
     "metadata": {},
     "output_type": "execute_result"
    },
    {
     "data": {
      "image/png": "[encoded data removed]",
      "text/plain": [
       "<Figure size 432x288 with 1 Axes>"
      ]
     },
     "metadata": {
      "needs_background": "light"
     },
     "output_type": "display_data"
    }
   ],
   "source": [
    "sales_pivot_with_year.query('platform==\"PS3\"').plot(kind='bar')"
   ]
  },
  {
   "cell_type": "markdown",
   "metadata": {},
   "source": [
    "La tendencia que se observa en los tres casos graficados arriba es de un aumento de las ventas desde el lanzamiento de la plataforma hasta un pico y una posterior decadencia hasta su muerte."
   ]
  },
  {
   "cell_type": "markdown",
   "metadata": {},
   "source": [
    "<div class=\"alert alert-block alert-success\">\n",
    "<b>Reviewer's comment</b> <a class=\"tocSkip\"></a>\n",
    "\n",
    "Perfecto, las gráficas son muy buenas y nos muestran perfectamente las ventas por año.\n",
    "</div>"
   ]
  },
  {
   "cell_type": "markdown",
   "metadata": {},
   "source": [
    "<div class=\"alert alert-block alert-warning\">\n",
    "<b>Reviewer's comment</b> <a class=\"tocSkip\"></a>\n",
    "\n",
    "Estas tres gráficas las podrías realizar juntas con un ciclo for.\n",
    "</div>"
   ]
  },
  {
   "cell_type": "markdown",
   "metadata": {},
   "source": [
    "##### Periodo de tiempo de las plataformas"
   ]
  },
  {
   "cell_type": "code",
   "execution_count": 54,
   "metadata": {},
   "outputs": [],
   "source": [
    "sales_pivot_all = dataset.pivot_table(index=['platform'], values='year_of_release',aggfunc=['max','min'])"
   ]
  },
  {
   "cell_type": "code",
   "execution_count": 55,
   "metadata": {
    "scrolled": true
   },
   "outputs": [
    {
     "data": {
      "text/html": [
       "<div>\n",
       "<style scoped>\n",
       "    .dataframe tbody tr th:only-of-type {\n",
       "        vertical-align: middle;\n",
       "    }\n",
       "\n",
       "    .dataframe tbody tr th {\n",
       "        vertical-align: top;\n",
       "    }\n",
       "\n",
       "    .dataframe thead tr th {\n",
       "        text-align: left;\n",
       "    }\n",
       "</style>\n",
       "<table border=\"1\" class=\"dataframe\">\n",
       "  <thead>\n",
       "    <tr>\n",
       "      <th></th>\n",
       "      <th>platform</th>\n",
       "      <th>max</th>\n",
       "      <th>min</th>\n",
       "    </tr>\n",
       "    <tr>\n",
       "      <th></th>\n",
       "      <th></th>\n",
       "      <th>year_of_release</th>\n",
       "      <th>year_of_release</th>\n",
       "    </tr>\n",
       "  </thead>\n",
       "  <tbody>\n",
       "    <tr>\n",
       "      <th>0</th>\n",
       "      <td>3DS</td>\n",
       "      <td>2016</td>\n",
       "      <td>2011</td>\n",
       "    </tr>\n",
       "    <tr>\n",
       "      <th>1</th>\n",
       "      <td>DC</td>\n",
       "      <td>2008</td>\n",
       "      <td>1998</td>\n",
       "    </tr>\n",
       "    <tr>\n",
       "      <th>2</th>\n",
       "      <td>DS</td>\n",
       "      <td>2013</td>\n",
       "      <td>1985</td>\n",
       "    </tr>\n",
       "    <tr>\n",
       "      <th>3</th>\n",
       "      <td>GBA</td>\n",
       "      <td>2007</td>\n",
       "      <td>2000</td>\n",
       "    </tr>\n",
       "    <tr>\n",
       "      <th>4</th>\n",
       "      <td>GC</td>\n",
       "      <td>2007</td>\n",
       "      <td>2001</td>\n",
       "    </tr>\n",
       "    <tr>\n",
       "      <th>5</th>\n",
       "      <td>PC</td>\n",
       "      <td>2016</td>\n",
       "      <td>1985</td>\n",
       "    </tr>\n",
       "    <tr>\n",
       "      <th>6</th>\n",
       "      <td>PS</td>\n",
       "      <td>2003</td>\n",
       "      <td>1994</td>\n",
       "    </tr>\n",
       "    <tr>\n",
       "      <th>7</th>\n",
       "      <td>PS2</td>\n",
       "      <td>2011</td>\n",
       "      <td>2000</td>\n",
       "    </tr>\n",
       "    <tr>\n",
       "      <th>8</th>\n",
       "      <td>PS3</td>\n",
       "      <td>2016</td>\n",
       "      <td>2006</td>\n",
       "    </tr>\n",
       "    <tr>\n",
       "      <th>9</th>\n",
       "      <td>PS4</td>\n",
       "      <td>2016</td>\n",
       "      <td>2013</td>\n",
       "    </tr>\n",
       "    <tr>\n",
       "      <th>10</th>\n",
       "      <td>PSP</td>\n",
       "      <td>2015</td>\n",
       "      <td>2004</td>\n",
       "    </tr>\n",
       "    <tr>\n",
       "      <th>11</th>\n",
       "      <td>PSV</td>\n",
       "      <td>2016</td>\n",
       "      <td>2011</td>\n",
       "    </tr>\n",
       "    <tr>\n",
       "      <th>12</th>\n",
       "      <td>Wii</td>\n",
       "      <td>2016</td>\n",
       "      <td>2006</td>\n",
       "    </tr>\n",
       "    <tr>\n",
       "      <th>13</th>\n",
       "      <td>WiiU</td>\n",
       "      <td>2016</td>\n",
       "      <td>2012</td>\n",
       "    </tr>\n",
       "    <tr>\n",
       "      <th>14</th>\n",
       "      <td>X360</td>\n",
       "      <td>2016</td>\n",
       "      <td>2005</td>\n",
       "    </tr>\n",
       "    <tr>\n",
       "      <th>15</th>\n",
       "      <td>XB</td>\n",
       "      <td>2008</td>\n",
       "      <td>2000</td>\n",
       "    </tr>\n",
       "    <tr>\n",
       "      <th>16</th>\n",
       "      <td>XOne</td>\n",
       "      <td>2016</td>\n",
       "      <td>2013</td>\n",
       "    </tr>\n",
       "  </tbody>\n",
       "</table>\n",
       "</div>"
      ],
      "text/plain": [
       "   platform             max             min\n",
       "            year_of_release year_of_release\n",
       "0       3DS            2016            2011\n",
       "1        DC            2008            1998\n",
       "2        DS            2013            1985\n",
       "3       GBA            2007            2000\n",
       "4        GC            2007            2001\n",
       "5        PC            2016            1985\n",
       "6        PS            2003            1994\n",
       "7       PS2            2011            2000\n",
       "8       PS3            2016            2006\n",
       "9       PS4            2016            2013\n",
       "10      PSP            2015            2004\n",
       "11      PSV            2016            2011\n",
       "12      Wii            2016            2006\n",
       "13     WiiU            2016            2012\n",
       "14     X360            2016            2005\n",
       "15       XB            2008            2000\n",
       "16     XOne            2016            2013"
      ]
     },
     "execution_count": 55,
     "metadata": {},
     "output_type": "execute_result"
    }
   ],
   "source": [
    "sales_pivot_all.reset_index()"
   ]
  },
  {
   "cell_type": "code",
   "execution_count": 56,
   "metadata": {},
   "outputs": [],
   "source": [
    "sales_pivot_all.columns=['last_year','first_year']"
   ]
  },
  {
   "cell_type": "code",
   "execution_count": 57,
   "metadata": {},
   "outputs": [
    {
     "data": {
      "text/plain": [
       "2004.0"
      ]
     },
     "execution_count": 57,
     "metadata": {},
     "output_type": "execute_result"
    }
   ],
   "source": [
    "sales_pivot_all['first_year'].median()"
   ]
  },
  {
   "cell_type": "code",
   "execution_count": 58,
   "metadata": {},
   "outputs": [],
   "source": [
    "earliest_release_year = sales_pivot_all['first_year'].min()"
   ]
  },
  {
   "cell_type": "code",
   "execution_count": 59,
   "metadata": {},
   "outputs": [
    {
     "data": {
      "text/plain": [
       "1985"
      ]
     },
     "execution_count": 59,
     "metadata": {},
     "output_type": "execute_result"
    }
   ],
   "source": [
    "earliest_release_year"
   ]
  },
  {
   "cell_type": "code",
   "execution_count": 60,
   "metadata": {},
   "outputs": [],
   "source": [
    "platform_lifespan = sales_pivot_all['last_year'] - sales_pivot_all['first_year']"
   ]
  },
  {
   "cell_type": "code",
   "execution_count": 61,
   "metadata": {
    "scrolled": true
   },
   "outputs": [
    {
     "data": {
      "text/plain": [
       "<AxesSubplot:xlabel='platform'>"
      ]
     },
     "execution_count": 61,
     "metadata": {},
     "output_type": "execute_result"
    },
    {
     "data": {
      "image/png": "[encoded data removed]",
      "text/plain": [
       "<Figure size 432x288 with 1 Axes>"
      ]
     },
     "metadata": {
      "needs_background": "light"
     },
     "output_type": "display_data"
    }
   ],
   "source": [
    "platform_lifespan.sort_values(ascending=False).plot(kind='bar')"
   ]
  },
  {
   "cell_type": "markdown",
   "metadata": {},
   "source": [
    "<div class=\"alert alert-block alert-success\">\n",
    "<b>Reviewer's comment</b> <a class=\"tocSkip\"></a>\n",
    "\n",
    "Muy bien. Se ordenaron los datos para que fuera más clara la gráfica, esto es muy importante.\n",
    "</div>"
   ]
  },
  {
   "cell_type": "markdown",
   "metadata": {},
   "source": [
    "Lo que se puede observar en este gráfico es que las plataformas más antiguas como PC y DS tenían periodos de vida muy largos (31 y 28 años, respectivamente), mientras que plataformas más nuevas como PS4 y XOne tienen periodos de vida muy cortos (3 años)."
   ]
  },
  {
   "cell_type": "markdown",
   "metadata": {},
   "source": [
    "##### Comparativo de ventas anuales por plataforma"
   ]
  },
  {
   "cell_type": "code",
   "execution_count": 62,
   "metadata": {},
   "outputs": [],
   "source": [
    "sales_pivot_by_platform = dataset.query('year_of_release>2004').pivot_table(index=['year_of_release'], columns='platform', values='total_sales',aggfunc='sum')"
   ]
  },
  {
   "cell_type": "code",
   "execution_count": 63,
   "metadata": {},
   "outputs": [
    {
     "data": {
      "text/html": [
       "<div>\n",
       "<style scoped>\n",
       "    .dataframe tbody tr th:only-of-type {\n",
       "        vertical-align: middle;\n",
       "    }\n",
       "\n",
       "    .dataframe tbody tr th {\n",
       "        vertical-align: top;\n",
       "    }\n",
       "\n",
       "    .dataframe thead th {\n",
       "        text-align: right;\n",
       "    }\n",
       "</style>\n",
       "<table border=\"1\" class=\"dataframe\">\n",
       "  <thead>\n",
       "    <tr style=\"text-align: right;\">\n",
       "      <th>platform</th>\n",
       "      <th>3DS</th>\n",
       "      <th>DC</th>\n",
       "      <th>DS</th>\n",
       "      <th>GBA</th>\n",
       "      <th>GC</th>\n",
       "      <th>PC</th>\n",
       "      <th>PS2</th>\n",
       "      <th>PS3</th>\n",
       "      <th>PS4</th>\n",
       "      <th>PSP</th>\n",
       "      <th>PSV</th>\n",
       "      <th>Wii</th>\n",
       "      <th>WiiU</th>\n",
       "      <th>X360</th>\n",
       "      <th>XB</th>\n",
       "      <th>XOne</th>\n",
       "    </tr>\n",
       "    <tr>\n",
       "      <th>year_of_release</th>\n",
       "      <th></th>\n",
       "      <th></th>\n",
       "      <th></th>\n",
       "      <th></th>\n",
       "      <th></th>\n",
       "      <th></th>\n",
       "      <th></th>\n",
       "      <th></th>\n",
       "      <th></th>\n",
       "      <th></th>\n",
       "      <th></th>\n",
       "      <th></th>\n",
       "      <th></th>\n",
       "      <th></th>\n",
       "      <th></th>\n",
       "      <th></th>\n",
       "    </tr>\n",
       "  </thead>\n",
       "  <tbody>\n",
       "    <tr>\n",
       "      <th>2005</th>\n",
       "      <td>NaN</td>\n",
       "      <td>NaN</td>\n",
       "      <td>130.14</td>\n",
       "      <td>33.86</td>\n",
       "      <td>27.62</td>\n",
       "      <td>4.37</td>\n",
       "      <td>160.66</td>\n",
       "      <td>NaN</td>\n",
       "      <td>NaN</td>\n",
       "      <td>43.84</td>\n",
       "      <td>NaN</td>\n",
       "      <td>NaN</td>\n",
       "      <td>NaN</td>\n",
       "      <td>8.25</td>\n",
       "      <td>49.08</td>\n",
       "      <td>NaN</td>\n",
       "    </tr>\n",
       "    <tr>\n",
       "      <th>2006</th>\n",
       "      <td>NaN</td>\n",
       "      <td>NaN</td>\n",
       "      <td>119.81</td>\n",
       "      <td>5.28</td>\n",
       "      <td>11.26</td>\n",
       "      <td>2.85</td>\n",
       "      <td>103.42</td>\n",
       "      <td>20.96</td>\n",
       "      <td>NaN</td>\n",
       "      <td>55.32</td>\n",
       "      <td>NaN</td>\n",
       "      <td>137.15</td>\n",
       "      <td>NaN</td>\n",
       "      <td>51.62</td>\n",
       "      <td>10.04</td>\n",
       "      <td>NaN</td>\n",
       "    </tr>\n",
       "    <tr>\n",
       "      <th>2007</th>\n",
       "      <td>NaN</td>\n",
       "      <td>0.02</td>\n",
       "      <td>146.94</td>\n",
       "      <td>3.40</td>\n",
       "      <td>0.27</td>\n",
       "      <td>9.28</td>\n",
       "      <td>75.99</td>\n",
       "      <td>73.19</td>\n",
       "      <td>NaN</td>\n",
       "      <td>46.93</td>\n",
       "      <td>NaN</td>\n",
       "      <td>152.77</td>\n",
       "      <td>NaN</td>\n",
       "      <td>95.41</td>\n",
       "      <td>0.55</td>\n",
       "      <td>NaN</td>\n",
       "    </tr>\n",
       "    <tr>\n",
       "      <th>2008</th>\n",
       "      <td>NaN</td>\n",
       "      <td>0.04</td>\n",
       "      <td>145.31</td>\n",
       "      <td>NaN</td>\n",
       "      <td>NaN</td>\n",
       "      <td>12.42</td>\n",
       "      <td>53.90</td>\n",
       "      <td>118.52</td>\n",
       "      <td>NaN</td>\n",
       "      <td>34.55</td>\n",
       "      <td>NaN</td>\n",
       "      <td>171.32</td>\n",
       "      <td>NaN</td>\n",
       "      <td>135.26</td>\n",
       "      <td>0.18</td>\n",
       "      <td>NaN</td>\n",
       "    </tr>\n",
       "    <tr>\n",
       "      <th>2009</th>\n",
       "      <td>NaN</td>\n",
       "      <td>NaN</td>\n",
       "      <td>119.54</td>\n",
       "      <td>NaN</td>\n",
       "      <td>NaN</td>\n",
       "      <td>16.91</td>\n",
       "      <td>26.40</td>\n",
       "      <td>130.93</td>\n",
       "      <td>NaN</td>\n",
       "      <td>37.78</td>\n",
       "      <td>NaN</td>\n",
       "      <td>206.97</td>\n",
       "      <td>NaN</td>\n",
       "      <td>120.29</td>\n",
       "      <td>NaN</td>\n",
       "      <td>NaN</td>\n",
       "    </tr>\n",
       "    <tr>\n",
       "      <th>2010</th>\n",
       "      <td>NaN</td>\n",
       "      <td>NaN</td>\n",
       "      <td>85.02</td>\n",
       "      <td>NaN</td>\n",
       "      <td>NaN</td>\n",
       "      <td>24.28</td>\n",
       "      <td>5.64</td>\n",
       "      <td>142.17</td>\n",
       "      <td>NaN</td>\n",
       "      <td>35.04</td>\n",
       "      <td>NaN</td>\n",
       "      <td>127.95</td>\n",
       "      <td>NaN</td>\n",
       "      <td>170.03</td>\n",
       "      <td>NaN</td>\n",
       "      <td>NaN</td>\n",
       "    </tr>\n",
       "    <tr>\n",
       "      <th>2011</th>\n",
       "      <td>63.20</td>\n",
       "      <td>NaN</td>\n",
       "      <td>26.18</td>\n",
       "      <td>NaN</td>\n",
       "      <td>NaN</td>\n",
       "      <td>35.03</td>\n",
       "      <td>0.45</td>\n",
       "      <td>156.78</td>\n",
       "      <td>NaN</td>\n",
       "      <td>17.82</td>\n",
       "      <td>4.60</td>\n",
       "      <td>59.65</td>\n",
       "      <td>NaN</td>\n",
       "      <td>143.84</td>\n",
       "      <td>NaN</td>\n",
       "      <td>NaN</td>\n",
       "    </tr>\n",
       "    <tr>\n",
       "      <th>2012</th>\n",
       "      <td>51.36</td>\n",
       "      <td>NaN</td>\n",
       "      <td>11.01</td>\n",
       "      <td>NaN</td>\n",
       "      <td>NaN</td>\n",
       "      <td>23.22</td>\n",
       "      <td>NaN</td>\n",
       "      <td>107.36</td>\n",
       "      <td>NaN</td>\n",
       "      <td>7.69</td>\n",
       "      <td>16.19</td>\n",
       "      <td>21.71</td>\n",
       "      <td>17.56</td>\n",
       "      <td>99.74</td>\n",
       "      <td>NaN</td>\n",
       "      <td>NaN</td>\n",
       "    </tr>\n",
       "    <tr>\n",
       "      <th>2013</th>\n",
       "      <td>56.57</td>\n",
       "      <td>NaN</td>\n",
       "      <td>1.54</td>\n",
       "      <td>NaN</td>\n",
       "      <td>NaN</td>\n",
       "      <td>12.38</td>\n",
       "      <td>NaN</td>\n",
       "      <td>113.25</td>\n",
       "      <td>25.99</td>\n",
       "      <td>3.14</td>\n",
       "      <td>10.42</td>\n",
       "      <td>8.59</td>\n",
       "      <td>21.65</td>\n",
       "      <td>88.58</td>\n",
       "      <td>NaN</td>\n",
       "      <td>18.96</td>\n",
       "    </tr>\n",
       "    <tr>\n",
       "      <th>2014</th>\n",
       "      <td>43.76</td>\n",
       "      <td>NaN</td>\n",
       "      <td>NaN</td>\n",
       "      <td>NaN</td>\n",
       "      <td>NaN</td>\n",
       "      <td>13.28</td>\n",
       "      <td>NaN</td>\n",
       "      <td>47.76</td>\n",
       "      <td>100.00</td>\n",
       "      <td>0.24</td>\n",
       "      <td>11.84</td>\n",
       "      <td>3.75</td>\n",
       "      <td>22.03</td>\n",
       "      <td>34.74</td>\n",
       "      <td>NaN</td>\n",
       "      <td>54.07</td>\n",
       "    </tr>\n",
       "    <tr>\n",
       "      <th>2015</th>\n",
       "      <td>27.78</td>\n",
       "      <td>NaN</td>\n",
       "      <td>NaN</td>\n",
       "      <td>NaN</td>\n",
       "      <td>NaN</td>\n",
       "      <td>8.52</td>\n",
       "      <td>NaN</td>\n",
       "      <td>16.82</td>\n",
       "      <td>118.90</td>\n",
       "      <td>0.12</td>\n",
       "      <td>6.18</td>\n",
       "      <td>1.14</td>\n",
       "      <td>16.35</td>\n",
       "      <td>11.96</td>\n",
       "      <td>NaN</td>\n",
       "      <td>60.14</td>\n",
       "    </tr>\n",
       "    <tr>\n",
       "      <th>2016</th>\n",
       "      <td>15.14</td>\n",
       "      <td>NaN</td>\n",
       "      <td>NaN</td>\n",
       "      <td>NaN</td>\n",
       "      <td>NaN</td>\n",
       "      <td>5.25</td>\n",
       "      <td>NaN</td>\n",
       "      <td>3.60</td>\n",
       "      <td>69.25</td>\n",
       "      <td>NaN</td>\n",
       "      <td>4.15</td>\n",
       "      <td>0.18</td>\n",
       "      <td>4.60</td>\n",
       "      <td>1.52</td>\n",
       "      <td>NaN</td>\n",
       "      <td>26.15</td>\n",
       "    </tr>\n",
       "  </tbody>\n",
       "</table>\n",
       "</div>"
      ],
      "text/plain": [
       "platform           3DS    DC      DS    GBA     GC     PC     PS2     PS3  \\\n",
       "year_of_release                                                             \n",
       "2005               NaN   NaN  130.14  33.86  27.62   4.37  160.66     NaN   \n",
       "2006               NaN   NaN  119.81   5.28  11.26   2.85  103.42   20.96   \n",
       "2007               NaN  0.02  146.94   3.40   0.27   9.28   75.99   73.19   \n",
       "2008               NaN  0.04  145.31    NaN    NaN  12.42   53.90  118.52   \n",
       "2009               NaN   NaN  119.54    NaN    NaN  16.91   26.40  130.93   \n",
       "2010               NaN   NaN   85.02    NaN    NaN  24.28    5.64  142.17   \n",
       "2011             63.20   NaN   26.18    NaN    NaN  35.03    0.45  156.78   \n",
       "2012             51.36   NaN   11.01    NaN    NaN  23.22     NaN  107.36   \n",
       "2013             56.57   NaN    1.54    NaN    NaN  12.38     NaN  113.25   \n",
       "2014             43.76   NaN     NaN    NaN    NaN  13.28     NaN   47.76   \n",
       "2015             27.78   NaN     NaN    NaN    NaN   8.52     NaN   16.82   \n",
       "2016             15.14   NaN     NaN    NaN    NaN   5.25     NaN    3.60   \n",
       "\n",
       "platform            PS4    PSP    PSV     Wii   WiiU    X360     XB   XOne  \n",
       "year_of_release                                                             \n",
       "2005                NaN  43.84    NaN     NaN    NaN    8.25  49.08    NaN  \n",
       "2006                NaN  55.32    NaN  137.15    NaN   51.62  10.04    NaN  \n",
       "2007                NaN  46.93    NaN  152.77    NaN   95.41   0.55    NaN  \n",
       "2008                NaN  34.55    NaN  171.32    NaN  135.26   0.18    NaN  \n",
       "2009                NaN  37.78    NaN  206.97    NaN  120.29    NaN    NaN  \n",
       "2010                NaN  35.04    NaN  127.95    NaN  170.03    NaN    NaN  \n",
       "2011                NaN  17.82   4.60   59.65    NaN  143.84    NaN    NaN  \n",
       "2012                NaN   7.69  16.19   21.71  17.56   99.74    NaN    NaN  \n",
       "2013              25.99   3.14  10.42    8.59  21.65   88.58    NaN  18.96  \n",
       "2014             100.00   0.24  11.84    3.75  22.03   34.74    NaN  54.07  \n",
       "2015             118.90   0.12   6.18    1.14  16.35   11.96    NaN  60.14  \n",
       "2016              69.25    NaN   4.15    0.18   4.60    1.52    NaN  26.15  "
      ]
     },
     "execution_count": 63,
     "metadata": {},
     "output_type": "execute_result"
    }
   ],
   "source": [
    "sales_pivot_by_platform"
   ]
  },
  {
   "cell_type": "code",
   "execution_count": 64,
   "metadata": {
    "scrolled": false
   },
   "outputs": [
    {
     "data": {
      "text/plain": [
       "Text(0.5, 1.0, 'Sales by year')"
      ]
     },
     "execution_count": 64,
     "metadata": {},
     "output_type": "execute_result"
    },
    {
     "data": {
      "image/png": "[encoded data removed]",
      "text/plain": [
       "<Figure size 1080x432 with 1 Axes>"
      ]
     },
     "metadata": {
      "needs_background": "light"
     },
     "output_type": "display_data"
    }
   ],
   "source": [
    "sales_pivot_by_platform.plot(style='x-',figsize=(15,6))\n",
    "plt.ylabel('Sum of sales')\n",
    "plt.title('Sales by year')"
   ]
  },
  {
   "cell_type": "markdown",
   "metadata": {},
   "source": [
    "<div class=\"alert alert-block alert-success\">\n",
    "<b>Reviewer's comment</b> <a class=\"tocSkip\"></a>\n",
    "\n",
    "La gráfica es buena los puntos en cada año y la leyenda ayuda a comprenderlo bien.\n",
    "</div>"
   ]
  },
  {
   "cell_type": "markdown",
   "metadata": {},
   "source": [
    "<div class=\"alert alert-block alert-warning\">\n",
    "<b>Reviewer's comment</b> <a class=\"tocSkip\"></a>\n",
    "\n",
    "Como consejo, cuando tengas muchas líneas también considera usar tipos distintos de líneas (punteadas, cortadas, etc.) o diferentes tipos de grosor para que sea más fácil de comprender.\n",
    "</div>"
   ]
  },
  {
   "cell_type": "markdown",
   "metadata": {},
   "source": [
    "- Las plataforma líderes en ventas y las más rentables son PS4, XOne y PSP.\n",
    "- Se observa una reducción del mercado generalizada en donde todas las ventas tienden a disminuir."
   ]
  },
  {
   "cell_type": "markdown",
   "metadata": {},
   "source": [
    "##### Ventas globales de todas las plataformas"
   ]
  },
  {
   "cell_type": "code",
   "execution_count": 65,
   "metadata": {},
   "outputs": [],
   "source": [
    "sales_average_by_platform = dataset.query('year_of_release>2004').pivot_table(index=['year_of_release'], columns='platform', values='total_sales',aggfunc='median')"
   ]
  },
  {
   "cell_type": "code",
   "execution_count": 66,
   "metadata": {},
   "outputs": [
    {
     "data": {
      "text/html": [
       "<div>\n",
       "<style scoped>\n",
       "    .dataframe tbody tr th:only-of-type {\n",
       "        vertical-align: middle;\n",
       "    }\n",
       "\n",
       "    .dataframe tbody tr th {\n",
       "        vertical-align: top;\n",
       "    }\n",
       "\n",
       "    .dataframe thead th {\n",
       "        text-align: right;\n",
       "    }\n",
       "</style>\n",
       "<table border=\"1\" class=\"dataframe\">\n",
       "  <thead>\n",
       "    <tr style=\"text-align: right;\">\n",
       "      <th>platform</th>\n",
       "      <th>3DS</th>\n",
       "      <th>DC</th>\n",
       "      <th>DS</th>\n",
       "      <th>GBA</th>\n",
       "      <th>GC</th>\n",
       "      <th>PC</th>\n",
       "      <th>PS2</th>\n",
       "      <th>PS3</th>\n",
       "      <th>PS4</th>\n",
       "      <th>PSP</th>\n",
       "      <th>PSV</th>\n",
       "      <th>Wii</th>\n",
       "      <th>WiiU</th>\n",
       "      <th>X360</th>\n",
       "      <th>XB</th>\n",
       "      <th>XOne</th>\n",
       "    </tr>\n",
       "    <tr>\n",
       "      <th>year_of_release</th>\n",
       "      <th></th>\n",
       "      <th></th>\n",
       "      <th></th>\n",
       "      <th></th>\n",
       "      <th></th>\n",
       "      <th></th>\n",
       "      <th></th>\n",
       "      <th></th>\n",
       "      <th></th>\n",
       "      <th></th>\n",
       "      <th></th>\n",
       "      <th></th>\n",
       "      <th></th>\n",
       "      <th></th>\n",
       "      <th></th>\n",
       "      <th></th>\n",
       "    </tr>\n",
       "  </thead>\n",
       "  <tbody>\n",
       "    <tr>\n",
       "      <th>2005</th>\n",
       "      <td>NaN</td>\n",
       "      <td>NaN</td>\n",
       "      <td>0.130</td>\n",
       "      <td>0.140</td>\n",
       "      <td>0.150</td>\n",
       "      <td>0.030</td>\n",
       "      <td>0.310</td>\n",
       "      <td>NaN</td>\n",
       "      <td>NaN</td>\n",
       "      <td>0.190</td>\n",
       "      <td>NaN</td>\n",
       "      <td>NaN</td>\n",
       "      <td>NaN</td>\n",
       "      <td>0.310</td>\n",
       "      <td>0.13</td>\n",
       "      <td>NaN</td>\n",
       "    </tr>\n",
       "    <tr>\n",
       "      <th>2006</th>\n",
       "      <td>NaN</td>\n",
       "      <td>NaN</td>\n",
       "      <td>0.110</td>\n",
       "      <td>0.040</td>\n",
       "      <td>0.155</td>\n",
       "      <td>0.020</td>\n",
       "      <td>0.100</td>\n",
       "      <td>0.380</td>\n",
       "      <td>NaN</td>\n",
       "      <td>0.100</td>\n",
       "      <td>NaN</td>\n",
       "      <td>0.250</td>\n",
       "      <td>NaN</td>\n",
       "      <td>0.240</td>\n",
       "      <td>0.08</td>\n",
       "      <td>NaN</td>\n",
       "    </tr>\n",
       "    <tr>\n",
       "      <th>2007</th>\n",
       "      <td>NaN</td>\n",
       "      <td>0.02</td>\n",
       "      <td>0.115</td>\n",
       "      <td>0.205</td>\n",
       "      <td>0.060</td>\n",
       "      <td>0.020</td>\n",
       "      <td>0.120</td>\n",
       "      <td>0.420</td>\n",
       "      <td>NaN</td>\n",
       "      <td>0.120</td>\n",
       "      <td>NaN</td>\n",
       "      <td>0.230</td>\n",
       "      <td>NaN</td>\n",
       "      <td>0.310</td>\n",
       "      <td>0.18</td>\n",
       "      <td>NaN</td>\n",
       "    </tr>\n",
       "    <tr>\n",
       "      <th>2008</th>\n",
       "      <td>NaN</td>\n",
       "      <td>0.04</td>\n",
       "      <td>0.100</td>\n",
       "      <td>NaN</td>\n",
       "      <td>NaN</td>\n",
       "      <td>0.020</td>\n",
       "      <td>0.150</td>\n",
       "      <td>0.435</td>\n",
       "      <td>NaN</td>\n",
       "      <td>0.130</td>\n",
       "      <td>NaN</td>\n",
       "      <td>0.210</td>\n",
       "      <td>NaN</td>\n",
       "      <td>0.465</td>\n",
       "      <td>0.18</td>\n",
       "      <td>NaN</td>\n",
       "    </tr>\n",
       "    <tr>\n",
       "      <th>2009</th>\n",
       "      <td>NaN</td>\n",
       "      <td>NaN</td>\n",
       "      <td>0.110</td>\n",
       "      <td>NaN</td>\n",
       "      <td>NaN</td>\n",
       "      <td>0.040</td>\n",
       "      <td>0.165</td>\n",
       "      <td>0.345</td>\n",
       "      <td>NaN</td>\n",
       "      <td>0.090</td>\n",
       "      <td>NaN</td>\n",
       "      <td>0.200</td>\n",
       "      <td>NaN</td>\n",
       "      <td>0.255</td>\n",
       "      <td>NaN</td>\n",
       "      <td>NaN</td>\n",
       "    </tr>\n",
       "    <tr>\n",
       "      <th>2010</th>\n",
       "      <td>NaN</td>\n",
       "      <td>NaN</td>\n",
       "      <td>0.110</td>\n",
       "      <td>NaN</td>\n",
       "      <td>NaN</td>\n",
       "      <td>0.060</td>\n",
       "      <td>0.055</td>\n",
       "      <td>0.340</td>\n",
       "      <td>NaN</td>\n",
       "      <td>0.060</td>\n",
       "      <td>NaN</td>\n",
       "      <td>0.190</td>\n",
       "      <td>NaN</td>\n",
       "      <td>0.280</td>\n",
       "      <td>NaN</td>\n",
       "      <td>NaN</td>\n",
       "    </tr>\n",
       "    <tr>\n",
       "      <th>2011</th>\n",
       "      <td>0.145</td>\n",
       "      <td>NaN</td>\n",
       "      <td>0.080</td>\n",
       "      <td>NaN</td>\n",
       "      <td>NaN</td>\n",
       "      <td>0.080</td>\n",
       "      <td>0.060</td>\n",
       "      <td>0.240</td>\n",
       "      <td>NaN</td>\n",
       "      <td>0.060</td>\n",
       "      <td>0.130</td>\n",
       "      <td>0.170</td>\n",
       "      <td>NaN</td>\n",
       "      <td>0.225</td>\n",
       "      <td>NaN</td>\n",
       "      <td>NaN</td>\n",
       "    </tr>\n",
       "    <tr>\n",
       "      <th>2012</th>\n",
       "      <td>0.190</td>\n",
       "      <td>NaN</td>\n",
       "      <td>0.030</td>\n",
       "      <td>NaN</td>\n",
       "      <td>NaN</td>\n",
       "      <td>0.120</td>\n",
       "      <td>NaN</td>\n",
       "      <td>0.305</td>\n",
       "      <td>NaN</td>\n",
       "      <td>0.040</td>\n",
       "      <td>0.190</td>\n",
       "      <td>0.190</td>\n",
       "      <td>0.230</td>\n",
       "      <td>0.435</td>\n",
       "      <td>NaN</td>\n",
       "      <td>NaN</td>\n",
       "    </tr>\n",
       "    <tr>\n",
       "      <th>2013</th>\n",
       "      <td>0.100</td>\n",
       "      <td>NaN</td>\n",
       "      <td>0.150</td>\n",
       "      <td>NaN</td>\n",
       "      <td>NaN</td>\n",
       "      <td>0.175</td>\n",
       "      <td>NaN</td>\n",
       "      <td>0.310</td>\n",
       "      <td>1.530</td>\n",
       "      <td>0.025</td>\n",
       "      <td>0.105</td>\n",
       "      <td>0.185</td>\n",
       "      <td>0.220</td>\n",
       "      <td>0.430</td>\n",
       "      <td>NaN</td>\n",
       "      <td>0.800</td>\n",
       "    </tr>\n",
       "    <tr>\n",
       "      <th>2014</th>\n",
       "      <td>0.090</td>\n",
       "      <td>NaN</td>\n",
       "      <td>NaN</td>\n",
       "      <td>NaN</td>\n",
       "      <td>NaN</td>\n",
       "      <td>0.100</td>\n",
       "      <td>NaN</td>\n",
       "      <td>0.160</td>\n",
       "      <td>0.600</td>\n",
       "      <td>0.010</td>\n",
       "      <td>0.070</td>\n",
       "      <td>0.370</td>\n",
       "      <td>0.130</td>\n",
       "      <td>0.230</td>\n",
       "      <td>NaN</td>\n",
       "      <td>0.440</td>\n",
       "    </tr>\n",
       "    <tr>\n",
       "      <th>2015</th>\n",
       "      <td>0.090</td>\n",
       "      <td>NaN</td>\n",
       "      <td>NaN</td>\n",
       "      <td>NaN</td>\n",
       "      <td>NaN</td>\n",
       "      <td>0.080</td>\n",
       "      <td>NaN</td>\n",
       "      <td>0.050</td>\n",
       "      <td>0.180</td>\n",
       "      <td>0.020</td>\n",
       "      <td>0.030</td>\n",
       "      <td>0.090</td>\n",
       "      <td>0.220</td>\n",
       "      <td>0.180</td>\n",
       "      <td>NaN</td>\n",
       "      <td>0.245</td>\n",
       "    </tr>\n",
       "    <tr>\n",
       "      <th>2016</th>\n",
       "      <td>0.080</td>\n",
       "      <td>NaN</td>\n",
       "      <td>NaN</td>\n",
       "      <td>NaN</td>\n",
       "      <td>NaN</td>\n",
       "      <td>0.035</td>\n",
       "      <td>NaN</td>\n",
       "      <td>0.065</td>\n",
       "      <td>0.085</td>\n",
       "      <td>NaN</td>\n",
       "      <td>0.030</td>\n",
       "      <td>0.180</td>\n",
       "      <td>0.215</td>\n",
       "      <td>0.100</td>\n",
       "      <td>NaN</td>\n",
       "      <td>0.060</td>\n",
       "    </tr>\n",
       "  </tbody>\n",
       "</table>\n",
       "</div>"
      ],
      "text/plain": [
       "platform           3DS    DC     DS    GBA     GC     PC    PS2    PS3    PS4  \\\n",
       "year_of_release                                                                 \n",
       "2005               NaN   NaN  0.130  0.140  0.150  0.030  0.310    NaN    NaN   \n",
       "2006               NaN   NaN  0.110  0.040  0.155  0.020  0.100  0.380    NaN   \n",
       "2007               NaN  0.02  0.115  0.205  0.060  0.020  0.120  0.420    NaN   \n",
       "2008               NaN  0.04  0.100    NaN    NaN  0.020  0.150  0.435    NaN   \n",
       "2009               NaN   NaN  0.110    NaN    NaN  0.040  0.165  0.345    NaN   \n",
       "2010               NaN   NaN  0.110    NaN    NaN  0.060  0.055  0.340    NaN   \n",
       "2011             0.145   NaN  0.080    NaN    NaN  0.080  0.060  0.240    NaN   \n",
       "2012             0.190   NaN  0.030    NaN    NaN  0.120    NaN  0.305    NaN   \n",
       "2013             0.100   NaN  0.150    NaN    NaN  0.175    NaN  0.310  1.530   \n",
       "2014             0.090   NaN    NaN    NaN    NaN  0.100    NaN  0.160  0.600   \n",
       "2015             0.090   NaN    NaN    NaN    NaN  0.080    NaN  0.050  0.180   \n",
       "2016             0.080   NaN    NaN    NaN    NaN  0.035    NaN  0.065  0.085   \n",
       "\n",
       "platform           PSP    PSV    Wii   WiiU   X360    XB   XOne  \n",
       "year_of_release                                                  \n",
       "2005             0.190    NaN    NaN    NaN  0.310  0.13    NaN  \n",
       "2006             0.100    NaN  0.250    NaN  0.240  0.08    NaN  \n",
       "2007             0.120    NaN  0.230    NaN  0.310  0.18    NaN  \n",
       "2008             0.130    NaN  0.210    NaN  0.465  0.18    NaN  \n",
       "2009             0.090    NaN  0.200    NaN  0.255   NaN    NaN  \n",
       "2010             0.060    NaN  0.190    NaN  0.280   NaN    NaN  \n",
       "2011             0.060  0.130  0.170    NaN  0.225   NaN    NaN  \n",
       "2012             0.040  0.190  0.190  0.230  0.435   NaN    NaN  \n",
       "2013             0.025  0.105  0.185  0.220  0.430   NaN  0.800  \n",
       "2014             0.010  0.070  0.370  0.130  0.230   NaN  0.440  \n",
       "2015             0.020  0.030  0.090  0.220  0.180   NaN  0.245  \n",
       "2016               NaN  0.030  0.180  0.215  0.100   NaN  0.060  "
      ]
     },
     "execution_count": 66,
     "metadata": {},
     "output_type": "execute_result"
    }
   ],
   "source": [
    "sales_average_by_platform"
   ]
  },
  {
   "cell_type": "code",
   "execution_count": 67,
   "metadata": {},
   "outputs": [
    {
     "data": {
      "text/plain": [
       "<AxesSubplot:>"
      ]
     },
     "execution_count": 67,
     "metadata": {},
     "output_type": "execute_result"
    },
    {
     "data": {
      "image/png": "[encoded data removed]",
      "text/plain": [
       "<Figure size 1080x432 with 1 Axes>"
      ]
     },
     "metadata": {
      "needs_background": "light"
     },
     "output_type": "display_data"
    }
   ],
   "source": [
    "sales_average_by_platform.boxplot(figsize = (15, 6))"
   ]
  },
  {
   "cell_type": "markdown",
   "metadata": {},
   "source": [
    "- La distribución de ventas promedio anuales por plataforma es muy diversa, existen plataformas muy exitosas con pico de ventas anuales promedio por encima de 1.5 como el PS4 y plataformas con ventas anuales muy cerradas año tras añoa como el DC o el XB.\n",
    "- Las ventas promedio de varias plataformas están muy cerradas respecto a sus cuartiles, lo que significa que sus ventas año tras año fueron muy similares sin realmente presentar ningún crecimiento."
   ]
  },
  {
   "cell_type": "markdown",
   "metadata": {},
   "source": [
    "<div class=\"alert alert-block alert-success\">\n",
    "<b>Reviewer's comment</b> <a class=\"tocSkip\"></a>\n",
    "\n",
    "Bien hecho, los boxplots están en la misma escala y esto ayuda a compararlos.\n",
    "</div>"
   ]
  },
  {
   "cell_type": "markdown",
   "metadata": {},
   "source": [
    "##### Correlación de reseñas de los usuarios contra ventas"
   ]
  },
  {
   "cell_type": "markdown",
   "metadata": {},
   "source": [
    "###### Correlación de reseñas contra ventas para XBOX 360"
   ]
  },
  {
   "cell_type": "code",
   "execution_count": 68,
   "metadata": {},
   "outputs": [],
   "source": [
    "X360_data = dataset.query('platform==\"X360\"')[['name','year_of_release','critic_score','user_score','total_sales']]"
   ]
  },
  {
   "cell_type": "code",
   "execution_count": 69,
   "metadata": {},
   "outputs": [
    {
     "data": {
      "text/html": [
       "<div>\n",
       "<style scoped>\n",
       "    .dataframe tbody tr th:only-of-type {\n",
       "        vertical-align: middle;\n",
       "    }\n",
       "\n",
       "    .dataframe tbody tr th {\n",
       "        vertical-align: top;\n",
       "    }\n",
       "\n",
       "    .dataframe thead th {\n",
       "        text-align: right;\n",
       "    }\n",
       "</style>\n",
       "<table border=\"1\" class=\"dataframe\">\n",
       "  <thead>\n",
       "    <tr style=\"text-align: right;\">\n",
       "      <th></th>\n",
       "      <th>name</th>\n",
       "      <th>year_of_release</th>\n",
       "      <th>critic_score</th>\n",
       "      <th>user_score</th>\n",
       "      <th>total_sales</th>\n",
       "    </tr>\n",
       "  </thead>\n",
       "  <tbody>\n",
       "    <tr>\n",
       "      <th>9</th>\n",
       "      <td>Kinect Adventures!</td>\n",
       "      <td>2010</td>\n",
       "      <td>61.0</td>\n",
       "      <td>6.3</td>\n",
       "      <td>21.82</td>\n",
       "    </tr>\n",
       "    <tr>\n",
       "      <th>15</th>\n",
       "      <td>Grand Theft Auto V</td>\n",
       "      <td>2013</td>\n",
       "      <td>97.0</td>\n",
       "      <td>8.1</td>\n",
       "      <td>16.27</td>\n",
       "    </tr>\n",
       "    <tr>\n",
       "      <th>21</th>\n",
       "      <td>Call of Duty: Modern Warfare 3</td>\n",
       "      <td>2011</td>\n",
       "      <td>88.0</td>\n",
       "      <td>3.4</td>\n",
       "      <td>14.73</td>\n",
       "    </tr>\n",
       "    <tr>\n",
       "      <th>23</th>\n",
       "      <td>Call of Duty: Black Ops</td>\n",
       "      <td>2010</td>\n",
       "      <td>87.0</td>\n",
       "      <td>6.3</td>\n",
       "      <td>14.62</td>\n",
       "    </tr>\n",
       "    <tr>\n",
       "      <th>26</th>\n",
       "      <td>Call of Duty: Black Ops II</td>\n",
       "      <td>2012</td>\n",
       "      <td>83.0</td>\n",
       "      <td>4.8</td>\n",
       "      <td>13.68</td>\n",
       "    </tr>\n",
       "    <tr>\n",
       "      <th>...</th>\n",
       "      <td>...</td>\n",
       "      <td>...</td>\n",
       "      <td>...</td>\n",
       "      <td>...</td>\n",
       "      <td>...</td>\n",
       "    </tr>\n",
       "    <tr>\n",
       "      <th>15234</th>\n",
       "      <td>Dragon Ball Z for Kinect</td>\n",
       "      <td>2012</td>\n",
       "      <td>49.0</td>\n",
       "      <td>2.1</td>\n",
       "      <td>0.01</td>\n",
       "    </tr>\n",
       "    <tr>\n",
       "      <th>15243</th>\n",
       "      <td>World Snooker Championship 2007</td>\n",
       "      <td>2007</td>\n",
       "      <td>73.0</td>\n",
       "      <td>6.6</td>\n",
       "      <td>0.01</td>\n",
       "    </tr>\n",
       "    <tr>\n",
       "      <th>15268</th>\n",
       "      <td>Metal Gear Solid HD Edition</td>\n",
       "      <td>2011</td>\n",
       "      <td>69.0</td>\n",
       "      <td>7.2</td>\n",
       "      <td>0.01</td>\n",
       "    </tr>\n",
       "    <tr>\n",
       "      <th>15275</th>\n",
       "      <td>Ben 10 Omniverse 2</td>\n",
       "      <td>2013</td>\n",
       "      <td>69.0</td>\n",
       "      <td>5.1</td>\n",
       "      <td>0.01</td>\n",
       "    </tr>\n",
       "    <tr>\n",
       "      <th>15330</th>\n",
       "      <td>LMA Manager 2007</td>\n",
       "      <td>2006</td>\n",
       "      <td>73.0</td>\n",
       "      <td>6.6</td>\n",
       "      <td>0.01</td>\n",
       "    </tr>\n",
       "  </tbody>\n",
       "</table>\n",
       "<p>1232 rows × 5 columns</p>\n",
       "</div>"
      ],
      "text/plain": [
       "                                  name  year_of_release  critic_score  \\\n",
       "9                   Kinect Adventures!             2010          61.0   \n",
       "15                  Grand Theft Auto V             2013          97.0   \n",
       "21      Call of Duty: Modern Warfare 3             2011          88.0   \n",
       "23             Call of Duty: Black Ops             2010          87.0   \n",
       "26          Call of Duty: Black Ops II             2012          83.0   \n",
       "...                                ...              ...           ...   \n",
       "15234         Dragon Ball Z for Kinect             2012          49.0   \n",
       "15243  World Snooker Championship 2007             2007          73.0   \n",
       "15268      Metal Gear Solid HD Edition             2011          69.0   \n",
       "15275               Ben 10 Omniverse 2             2013          69.0   \n",
       "15330                 LMA Manager 2007             2006          73.0   \n",
       "\n",
       "       user_score  total_sales  \n",
       "9             6.3        21.82  \n",
       "15            8.1        16.27  \n",
       "21            3.4        14.73  \n",
       "23            6.3        14.62  \n",
       "26            4.8        13.68  \n",
       "...           ...          ...  \n",
       "15234         2.1         0.01  \n",
       "15243         6.6         0.01  \n",
       "15268         7.2         0.01  \n",
       "15275         5.1         0.01  \n",
       "15330         6.6         0.01  \n",
       "\n",
       "[1232 rows x 5 columns]"
      ]
     },
     "execution_count": 69,
     "metadata": {},
     "output_type": "execute_result"
    }
   ],
   "source": [
    "X360_data"
   ]
  },
  {
   "cell_type": "code",
   "execution_count": 70,
   "metadata": {},
   "outputs": [
    {
     "data": {
      "text/plain": [
       "<AxesSubplot:xlabel='critic_score', ylabel='total_sales'>"
      ]
     },
     "execution_count": 70,
     "metadata": {},
     "output_type": "execute_result"
    },
    {
     "data": {
      "image/png": "[encoded data removed]",
      "text/plain": [
       "<Figure size 432x288 with 1 Axes>"
      ]
     },
     "metadata": {
      "needs_background": "light"
     },
     "output_type": "display_data"
    }
   ],
   "source": [
    "X360_data.plot(x='critic_score',y='total_sales',kind='scatter')"
   ]
  },
  {
   "cell_type": "code",
   "execution_count": 71,
   "metadata": {},
   "outputs": [
    {
     "data": {
      "text/plain": [
       "<AxesSubplot:xlabel='user_score', ylabel='total_sales'>"
      ]
     },
     "execution_count": 71,
     "metadata": {},
     "output_type": "execute_result"
    },
    {
     "data": {
      "image/png": "[encoded data removed]",
      "text/plain": [
       "<Figure size 432x288 with 1 Axes>"
      ]
     },
     "metadata": {
      "needs_background": "light"
     },
     "output_type": "display_data"
    }
   ],
   "source": [
    "X360_data.plot(x='user_score',y='total_sales',kind='scatter')"
   ]
  },
  {
   "cell_type": "markdown",
   "metadata": {},
   "source": [
    "<div class=\"alert alert-block alert-warning\">\n",
    "<b>Reviewer's comment</b> <a class=\"tocSkip\"></a>\n",
    "\n",
    "Buenas gráficas. También recuerda que puedes usar la variable alpha=0.5 para que los puntos tengan un poco de transparencia y saber en donde se acumulan.\n",
    "</div>"
   ]
  },
  {
   "cell_type": "code",
   "execution_count": 72,
   "metadata": {},
   "outputs": [
    {
     "data": {
      "text/plain": [
       "0.36556115161676217"
      ]
     },
     "execution_count": 72,
     "metadata": {},
     "output_type": "execute_result"
    }
   ],
   "source": [
    "X360_data['critic_score'].corr(X360_data['total_sales'])"
   ]
  },
  {
   "cell_type": "code",
   "execution_count": 73,
   "metadata": {
    "scrolled": true
   },
   "outputs": [
    {
     "data": {
      "text/plain": [
       "0.09515840827705238"
      ]
     },
     "execution_count": 73,
     "metadata": {},
     "output_type": "execute_result"
    }
   ],
   "source": [
    "X360_data['user_score'].corr(X360_data['total_sales'])"
   ]
  },
  {
   "cell_type": "markdown",
   "metadata": {},
   "source": [
    "La correlación de ventas contra user_score y critic_score es muy débil en la plataforma X360. No existe un patrón que indique que las mejores críticas mejoren las ventas de manera contundente."
   ]
  },
  {
   "cell_type": "markdown",
   "metadata": {},
   "source": [
    "###### Correlación de reseñas contra ventas para Wii"
   ]
  },
  {
   "cell_type": "code",
   "execution_count": 74,
   "metadata": {},
   "outputs": [],
   "source": [
    "Wii_data = dataset.query('platform==\"Wii\"')[['name','year_of_release','critic_score','user_score','total_sales']]"
   ]
  },
  {
   "cell_type": "code",
   "execution_count": 75,
   "metadata": {},
   "outputs": [
    {
     "data": {
      "text/html": [
       "<div>\n",
       "<style scoped>\n",
       "    .dataframe tbody tr th:only-of-type {\n",
       "        vertical-align: middle;\n",
       "    }\n",
       "\n",
       "    .dataframe tbody tr th {\n",
       "        vertical-align: top;\n",
       "    }\n",
       "\n",
       "    .dataframe thead th {\n",
       "        text-align: right;\n",
       "    }\n",
       "</style>\n",
       "<table border=\"1\" class=\"dataframe\">\n",
       "  <thead>\n",
       "    <tr style=\"text-align: right;\">\n",
       "      <th></th>\n",
       "      <th>name</th>\n",
       "      <th>year_of_release</th>\n",
       "      <th>critic_score</th>\n",
       "      <th>user_score</th>\n",
       "      <th>total_sales</th>\n",
       "    </tr>\n",
       "  </thead>\n",
       "  <tbody>\n",
       "    <tr>\n",
       "      <th>0</th>\n",
       "      <td>Wii Sports</td>\n",
       "      <td>2006</td>\n",
       "      <td>76.0</td>\n",
       "      <td>8.00</td>\n",
       "      <td>82.54</td>\n",
       "    </tr>\n",
       "    <tr>\n",
       "      <th>1</th>\n",
       "      <td>Mario Kart Wii</td>\n",
       "      <td>2008</td>\n",
       "      <td>82.0</td>\n",
       "      <td>8.30</td>\n",
       "      <td>35.52</td>\n",
       "    </tr>\n",
       "    <tr>\n",
       "      <th>2</th>\n",
       "      <td>Wii Sports Resort</td>\n",
       "      <td>2009</td>\n",
       "      <td>80.0</td>\n",
       "      <td>8.00</td>\n",
       "      <td>32.77</td>\n",
       "    </tr>\n",
       "    <tr>\n",
       "      <th>4</th>\n",
       "      <td>Wii Play</td>\n",
       "      <td>2006</td>\n",
       "      <td>58.0</td>\n",
       "      <td>6.60</td>\n",
       "      <td>28.91</td>\n",
       "    </tr>\n",
       "    <tr>\n",
       "      <th>5</th>\n",
       "      <td>New Super Mario Bros. Wii</td>\n",
       "      <td>2009</td>\n",
       "      <td>87.0</td>\n",
       "      <td>8.40</td>\n",
       "      <td>28.32</td>\n",
       "    </tr>\n",
       "    <tr>\n",
       "      <th>...</th>\n",
       "      <td>...</td>\n",
       "      <td>...</td>\n",
       "      <td>...</td>\n",
       "      <td>...</td>\n",
       "      <td>...</td>\n",
       "    </tr>\n",
       "    <tr>\n",
       "      <th>15210</th>\n",
       "      <td>Bomberman</td>\n",
       "      <td>2008</td>\n",
       "      <td>65.0</td>\n",
       "      <td>7.40</td>\n",
       "      <td>0.01</td>\n",
       "    </tr>\n",
       "    <tr>\n",
       "      <th>15247</th>\n",
       "      <td>The Ultimate Battle of the Sexes</td>\n",
       "      <td>2010</td>\n",
       "      <td>64.0</td>\n",
       "      <td>7.10</td>\n",
       "      <td>0.01</td>\n",
       "    </tr>\n",
       "    <tr>\n",
       "      <th>15285</th>\n",
       "      <td>Mahou Sensei Negima!? Neo-Pactio Fight!!</td>\n",
       "      <td>2007</td>\n",
       "      <td>71.5</td>\n",
       "      <td>7.60</td>\n",
       "      <td>0.01</td>\n",
       "    </tr>\n",
       "    <tr>\n",
       "      <th>15306</th>\n",
       "      <td>Help Wanted: 50 Wacky Jobs (jp sales)</td>\n",
       "      <td>2008</td>\n",
       "      <td>65.0</td>\n",
       "      <td>7.25</td>\n",
       "      <td>0.01</td>\n",
       "    </tr>\n",
       "    <tr>\n",
       "      <th>15307</th>\n",
       "      <td>Yattaman Wii: BikkuriDokkiri Machine de Mou Ra...</td>\n",
       "      <td>2008</td>\n",
       "      <td>54.0</td>\n",
       "      <td>6.25</td>\n",
       "      <td>0.01</td>\n",
       "    </tr>\n",
       "  </tbody>\n",
       "</table>\n",
       "<p>1286 rows × 5 columns</p>\n",
       "</div>"
      ],
      "text/plain": [
       "                                                    name  year_of_release  \\\n",
       "0                                             Wii Sports             2006   \n",
       "1                                         Mario Kart Wii             2008   \n",
       "2                                      Wii Sports Resort             2009   \n",
       "4                                               Wii Play             2006   \n",
       "5                              New Super Mario Bros. Wii             2009   \n",
       "...                                                  ...              ...   \n",
       "15210                                          Bomberman             2008   \n",
       "15247                   The Ultimate Battle of the Sexes             2010   \n",
       "15285           Mahou Sensei Negima!? Neo-Pactio Fight!!             2007   \n",
       "15306              Help Wanted: 50 Wacky Jobs (jp sales)             2008   \n",
       "15307  Yattaman Wii: BikkuriDokkiri Machine de Mou Ra...             2008   \n",
       "\n",
       "       critic_score  user_score  total_sales  \n",
       "0              76.0        8.00        82.54  \n",
       "1              82.0        8.30        35.52  \n",
       "2              80.0        8.00        32.77  \n",
       "4              58.0        6.60        28.91  \n",
       "5              87.0        8.40        28.32  \n",
       "...             ...         ...          ...  \n",
       "15210          65.0        7.40         0.01  \n",
       "15247          64.0        7.10         0.01  \n",
       "15285          71.5        7.60         0.01  \n",
       "15306          65.0        7.25         0.01  \n",
       "15307          54.0        6.25         0.01  \n",
       "\n",
       "[1286 rows x 5 columns]"
      ]
     },
     "execution_count": 75,
     "metadata": {},
     "output_type": "execute_result"
    }
   ],
   "source": [
    "Wii_data"
   ]
  },
  {
   "cell_type": "code",
   "execution_count": 76,
   "metadata": {
    "scrolled": true
   },
   "outputs": [
    {
     "data": {
      "text/plain": [
       "<AxesSubplot:xlabel='critic_score', ylabel='total_sales'>"
      ]
     },
     "execution_count": 76,
     "metadata": {},
     "output_type": "execute_result"
    },
    {
     "data": {
      "image/png": "[encoded data removed]",
      "text/plain": [
       "<Figure size 432x288 with 1 Axes>"
      ]
     },
     "metadata": {
      "needs_background": "light"
     },
     "output_type": "display_data"
    }
   ],
   "source": [
    "Wii_data.plot(x='critic_score',y='total_sales',kind='scatter')"
   ]
  },
  {
   "cell_type": "code",
   "execution_count": 77,
   "metadata": {},
   "outputs": [
    {
     "data": {
      "text/plain": [
       "<AxesSubplot:xlabel='user_score', ylabel='total_sales'>"
      ]
     },
     "execution_count": 77,
     "metadata": {},
     "output_type": "execute_result"
    },
    {
     "data": {
      "image/png": "[encoded data removed]",
      "text/plain": [
       "<Figure size 432x288 with 1 Axes>"
      ]
     },
     "metadata": {
      "needs_background": "light"
     },
     "output_type": "display_data"
    }
   ],
   "source": [
    "Wii_data.plot(x='user_score',y='total_sales',kind='scatter')"
   ]
  },
  {
   "cell_type": "code",
   "execution_count": 78,
   "metadata": {},
   "outputs": [
    {
     "data": {
      "text/plain": [
       "0.15950230883565852"
      ]
     },
     "execution_count": 78,
     "metadata": {},
     "output_type": "execute_result"
    }
   ],
   "source": [
    "Wii_data['critic_score'].corr(Wii_data['total_sales'])"
   ]
  },
  {
   "cell_type": "code",
   "execution_count": 79,
   "metadata": {},
   "outputs": [
    {
     "data": {
      "text/plain": [
       "0.08397657435188316"
      ]
     },
     "execution_count": 79,
     "metadata": {},
     "output_type": "execute_result"
    }
   ],
   "source": [
    "Wii_data['user_score'].corr(Wii_data['total_sales'])"
   ]
  },
  {
   "cell_type": "markdown",
   "metadata": {},
   "source": [
    "La correlación de ventas contra user_score y critic_score es muy débil en la plataforma Wii. No existe un patrón que indique que las mejores críticas mejoren las ventas de manera contundente."
   ]
  },
  {
   "cell_type": "markdown",
   "metadata": {},
   "source": [
    "##### Distribución de las ventas por género"
   ]
  },
  {
   "cell_type": "code",
   "execution_count": 80,
   "metadata": {},
   "outputs": [],
   "source": [
    "data_by_genre=dataset.pivot_table(index='genre',columns='platform',values='total_sales',aggfunc='sum',margins=True).sort_values(('All'),ascending=False)"
   ]
  },
  {
   "cell_type": "code",
   "execution_count": 81,
   "metadata": {},
   "outputs": [
    {
     "data": {
      "text/html": [
       "<div>\n",
       "<style scoped>\n",
       "    .dataframe tbody tr th:only-of-type {\n",
       "        vertical-align: middle;\n",
       "    }\n",
       "\n",
       "    .dataframe tbody tr th {\n",
       "        vertical-align: top;\n",
       "    }\n",
       "\n",
       "    .dataframe thead th {\n",
       "        text-align: right;\n",
       "    }\n",
       "</style>\n",
       "<table border=\"1\" class=\"dataframe\">\n",
       "  <thead>\n",
       "    <tr style=\"text-align: right;\">\n",
       "      <th>platform</th>\n",
       "      <th>3DS</th>\n",
       "      <th>DC</th>\n",
       "      <th>DS</th>\n",
       "      <th>GBA</th>\n",
       "      <th>GC</th>\n",
       "      <th>PC</th>\n",
       "      <th>PS</th>\n",
       "      <th>PS2</th>\n",
       "      <th>PS3</th>\n",
       "      <th>PS4</th>\n",
       "      <th>PSP</th>\n",
       "      <th>PSV</th>\n",
       "      <th>Wii</th>\n",
       "      <th>WiiU</th>\n",
       "      <th>X360</th>\n",
       "      <th>XB</th>\n",
       "      <th>XOne</th>\n",
       "      <th>All</th>\n",
       "    </tr>\n",
       "    <tr>\n",
       "      <th>genre</th>\n",
       "      <th></th>\n",
       "      <th></th>\n",
       "      <th></th>\n",
       "      <th></th>\n",
       "      <th></th>\n",
       "      <th></th>\n",
       "      <th></th>\n",
       "      <th></th>\n",
       "      <th></th>\n",
       "      <th></th>\n",
       "      <th></th>\n",
       "      <th></th>\n",
       "      <th></th>\n",
       "      <th></th>\n",
       "      <th></th>\n",
       "      <th></th>\n",
       "      <th></th>\n",
       "      <th></th>\n",
       "    </tr>\n",
       "  </thead>\n",
       "  <tbody>\n",
       "    <tr>\n",
       "      <th>All</th>\n",
       "      <td>257.81</td>\n",
       "      <td>14.69</td>\n",
       "      <td>802.78</td>\n",
       "      <td>312.88</td>\n",
       "      <td>196.73</td>\n",
       "      <td>255.76</td>\n",
       "      <td>727.58</td>\n",
       "      <td>1233.56</td>\n",
       "      <td>931.34</td>\n",
       "      <td>314.14</td>\n",
       "      <td>289.53</td>\n",
       "      <td>53.38</td>\n",
       "      <td>891.18</td>\n",
       "      <td>82.19</td>\n",
       "      <td>961.24</td>\n",
       "      <td>251.57</td>\n",
       "      <td>159.32</td>\n",
       "      <td>7735.68</td>\n",
       "    </tr>\n",
       "    <tr>\n",
       "      <th>Action</th>\n",
       "      <td>57.84</td>\n",
       "      <td>NaN</td>\n",
       "      <td>111.31</td>\n",
       "      <td>54.13</td>\n",
       "      <td>37.11</td>\n",
       "      <td>30.71</td>\n",
       "      <td>125.70</td>\n",
       "      <td>272.38</td>\n",
       "      <td>297.87</td>\n",
       "      <td>96.10</td>\n",
       "      <td>62.03</td>\n",
       "      <td>17.02</td>\n",
       "      <td>106.67</td>\n",
       "      <td>19.07</td>\n",
       "      <td>236.71</td>\n",
       "      <td>47.44</td>\n",
       "      <td>37.31</td>\n",
       "      <td>1609.40</td>\n",
       "    </tr>\n",
       "    <tr>\n",
       "      <th>Sports</th>\n",
       "      <td>6.15</td>\n",
       "      <td>3.65</td>\n",
       "      <td>31.27</td>\n",
       "      <td>16.32</td>\n",
       "      <td>24.36</td>\n",
       "      <td>11.97</td>\n",
       "      <td>119.49</td>\n",
       "      <td>262.67</td>\n",
       "      <td>133.15</td>\n",
       "      <td>55.61</td>\n",
       "      <td>39.76</td>\n",
       "      <td>4.19</td>\n",
       "      <td>286.49</td>\n",
       "      <td>3.16</td>\n",
       "      <td>136.69</td>\n",
       "      <td>52.89</td>\n",
       "      <td>26.74</td>\n",
       "      <td>1214.56</td>\n",
       "    </tr>\n",
       "    <tr>\n",
       "      <th>Shooter</th>\n",
       "      <td>1.22</td>\n",
       "      <td>0.33</td>\n",
       "      <td>7.86</td>\n",
       "      <td>3.56</td>\n",
       "      <td>13.61</td>\n",
       "      <td>43.90</td>\n",
       "      <td>39.33</td>\n",
       "      <td>108.20</td>\n",
       "      <td>192.29</td>\n",
       "      <td>88.56</td>\n",
       "      <td>19.63</td>\n",
       "      <td>3.88</td>\n",
       "      <td>25.69</td>\n",
       "      <td>6.01</td>\n",
       "      <td>275.62</td>\n",
       "      <td>62.13</td>\n",
       "      <td>60.33</td>\n",
       "      <td>952.15</td>\n",
       "    </tr>\n",
       "    <tr>\n",
       "      <th>Role-Playing</th>\n",
       "      <td>84.20</td>\n",
       "      <td>0.68</td>\n",
       "      <td>124.17</td>\n",
       "      <td>64.20</td>\n",
       "      <td>13.04</td>\n",
       "      <td>47.25</td>\n",
       "      <td>78.40</td>\n",
       "      <td>91.61</td>\n",
       "      <td>73.65</td>\n",
       "      <td>28.99</td>\n",
       "      <td>48.86</td>\n",
       "      <td>12.15</td>\n",
       "      <td>13.71</td>\n",
       "      <td>2.89</td>\n",
       "      <td>71.39</td>\n",
       "      <td>13.51</td>\n",
       "      <td>10.55</td>\n",
       "      <td>779.25</td>\n",
       "    </tr>\n",
       "    <tr>\n",
       "      <th>Misc</th>\n",
       "      <td>10.99</td>\n",
       "      <td>NaN</td>\n",
       "      <td>135.56</td>\n",
       "      <td>36.09</td>\n",
       "      <td>16.44</td>\n",
       "      <td>8.40</td>\n",
       "      <td>44.88</td>\n",
       "      <td>98.63</td>\n",
       "      <td>44.93</td>\n",
       "      <td>8.19</td>\n",
       "      <td>13.62</td>\n",
       "      <td>4.43</td>\n",
       "      <td>212.67</td>\n",
       "      <td>12.46</td>\n",
       "      <td>88.95</td>\n",
       "      <td>8.57</td>\n",
       "      <td>7.43</td>\n",
       "      <td>752.24</td>\n",
       "    </tr>\n",
       "    <tr>\n",
       "      <th>Racing</th>\n",
       "      <td>14.87</td>\n",
       "      <td>2.65</td>\n",
       "      <td>37.96</td>\n",
       "      <td>18.81</td>\n",
       "      <td>21.77</td>\n",
       "      <td>3.78</td>\n",
       "      <td>102.91</td>\n",
       "      <td>154.33</td>\n",
       "      <td>71.31</td>\n",
       "      <td>12.14</td>\n",
       "      <td>34.33</td>\n",
       "      <td>2.51</td>\n",
       "      <td>60.13</td>\n",
       "      <td>7.87</td>\n",
       "      <td>64.13</td>\n",
       "      <td>31.32</td>\n",
       "      <td>9.79</td>\n",
       "      <td>650.61</td>\n",
       "    </tr>\n",
       "    <tr>\n",
       "      <th>Platform</th>\n",
       "      <td>32.53</td>\n",
       "      <td>2.53</td>\n",
       "      <td>75.80</td>\n",
       "      <td>77.99</td>\n",
       "      <td>28.59</td>\n",
       "      <td>0.46</td>\n",
       "      <td>64.22</td>\n",
       "      <td>72.13</td>\n",
       "      <td>29.32</td>\n",
       "      <td>7.69</td>\n",
       "      <td>17.07</td>\n",
       "      <td>2.56</td>\n",
       "      <td>88.87</td>\n",
       "      <td>21.53</td>\n",
       "      <td>11.29</td>\n",
       "      <td>9.63</td>\n",
       "      <td>0.93</td>\n",
       "      <td>543.14</td>\n",
       "    </tr>\n",
       "    <tr>\n",
       "      <th>Fighting</th>\n",
       "      <td>10.56</td>\n",
       "      <td>1.83</td>\n",
       "      <td>7.08</td>\n",
       "      <td>4.16</td>\n",
       "      <td>18.43</td>\n",
       "      <td>0.15</td>\n",
       "      <td>72.74</td>\n",
       "      <td>89.20</td>\n",
       "      <td>51.11</td>\n",
       "      <td>8.65</td>\n",
       "      <td>21.73</td>\n",
       "      <td>2.62</td>\n",
       "      <td>23.36</td>\n",
       "      <td>6.27</td>\n",
       "      <td>37.32</td>\n",
       "      <td>12.80</td>\n",
       "      <td>2.45</td>\n",
       "      <td>370.46</td>\n",
       "    </tr>\n",
       "    <tr>\n",
       "      <th>Simulation</th>\n",
       "      <td>26.96</td>\n",
       "      <td>0.52</td>\n",
       "      <td>129.58</td>\n",
       "      <td>5.94</td>\n",
       "      <td>8.61</td>\n",
       "      <td>52.51</td>\n",
       "      <td>25.34</td>\n",
       "      <td>42.26</td>\n",
       "      <td>10.31</td>\n",
       "      <td>1.23</td>\n",
       "      <td>6.24</td>\n",
       "      <td>NaN</td>\n",
       "      <td>35.57</td>\n",
       "      <td>0.20</td>\n",
       "      <td>13.86</td>\n",
       "      <td>7.11</td>\n",
       "      <td>0.69</td>\n",
       "      <td>366.93</td>\n",
       "    </tr>\n",
       "    <tr>\n",
       "      <th>Adventure</th>\n",
       "      <td>4.83</td>\n",
       "      <td>2.50</td>\n",
       "      <td>45.83</td>\n",
       "      <td>12.23</td>\n",
       "      <td>5.93</td>\n",
       "      <td>10.02</td>\n",
       "      <td>20.73</td>\n",
       "      <td>21.24</td>\n",
       "      <td>22.28</td>\n",
       "      <td>6.34</td>\n",
       "      <td>10.67</td>\n",
       "      <td>3.84</td>\n",
       "      <td>17.70</td>\n",
       "      <td>0.17</td>\n",
       "      <td>14.89</td>\n",
       "      <td>3.02</td>\n",
       "      <td>2.68</td>\n",
       "      <td>204.90</td>\n",
       "    </tr>\n",
       "    <tr>\n",
       "      <th>Puzzle</th>\n",
       "      <td>5.57</td>\n",
       "      <td>NaN</td>\n",
       "      <td>82.09</td>\n",
       "      <td>11.99</td>\n",
       "      <td>4.56</td>\n",
       "      <td>0.91</td>\n",
       "      <td>12.06</td>\n",
       "      <td>5.94</td>\n",
       "      <td>0.44</td>\n",
       "      <td>0.02</td>\n",
       "      <td>5.45</td>\n",
       "      <td>0.18</td>\n",
       "      <td>15.30</td>\n",
       "      <td>1.32</td>\n",
       "      <td>0.73</td>\n",
       "      <td>0.41</td>\n",
       "      <td>NaN</td>\n",
       "      <td>146.97</td>\n",
       "    </tr>\n",
       "    <tr>\n",
       "      <th>Strategy</th>\n",
       "      <td>2.09</td>\n",
       "      <td>NaN</td>\n",
       "      <td>14.27</td>\n",
       "      <td>7.46</td>\n",
       "      <td>4.28</td>\n",
       "      <td>45.70</td>\n",
       "      <td>21.78</td>\n",
       "      <td>14.97</td>\n",
       "      <td>4.68</td>\n",
       "      <td>0.62</td>\n",
       "      <td>10.14</td>\n",
       "      <td>NaN</td>\n",
       "      <td>5.02</td>\n",
       "      <td>1.24</td>\n",
       "      <td>9.66</td>\n",
       "      <td>2.74</td>\n",
       "      <td>0.42</td>\n",
       "      <td>145.07</td>\n",
       "    </tr>\n",
       "  </tbody>\n",
       "</table>\n",
       "</div>"
      ],
      "text/plain": [
       "platform         3DS     DC      DS     GBA      GC      PC      PS      PS2  \\\n",
       "genre                                                                          \n",
       "All           257.81  14.69  802.78  312.88  196.73  255.76  727.58  1233.56   \n",
       "Action         57.84    NaN  111.31   54.13   37.11   30.71  125.70   272.38   \n",
       "Sports          6.15   3.65   31.27   16.32   24.36   11.97  119.49   262.67   \n",
       "Shooter         1.22   0.33    7.86    3.56   13.61   43.90   39.33   108.20   \n",
       "Role-Playing   84.20   0.68  124.17   64.20   13.04   47.25   78.40    91.61   \n",
       "Misc           10.99    NaN  135.56   36.09   16.44    8.40   44.88    98.63   \n",
       "Racing         14.87   2.65   37.96   18.81   21.77    3.78  102.91   154.33   \n",
       "Platform       32.53   2.53   75.80   77.99   28.59    0.46   64.22    72.13   \n",
       "Fighting       10.56   1.83    7.08    4.16   18.43    0.15   72.74    89.20   \n",
       "Simulation     26.96   0.52  129.58    5.94    8.61   52.51   25.34    42.26   \n",
       "Adventure       4.83   2.50   45.83   12.23    5.93   10.02   20.73    21.24   \n",
       "Puzzle          5.57    NaN   82.09   11.99    4.56    0.91   12.06     5.94   \n",
       "Strategy        2.09    NaN   14.27    7.46    4.28   45.70   21.78    14.97   \n",
       "\n",
       "platform         PS3     PS4     PSP    PSV     Wii   WiiU    X360      XB  \\\n",
       "genre                                                                        \n",
       "All           931.34  314.14  289.53  53.38  891.18  82.19  961.24  251.57   \n",
       "Action        297.87   96.10   62.03  17.02  106.67  19.07  236.71   47.44   \n",
       "Sports        133.15   55.61   39.76   4.19  286.49   3.16  136.69   52.89   \n",
       "Shooter       192.29   88.56   19.63   3.88   25.69   6.01  275.62   62.13   \n",
       "Role-Playing   73.65   28.99   48.86  12.15   13.71   2.89   71.39   13.51   \n",
       "Misc           44.93    8.19   13.62   4.43  212.67  12.46   88.95    8.57   \n",
       "Racing         71.31   12.14   34.33   2.51   60.13   7.87   64.13   31.32   \n",
       "Platform       29.32    7.69   17.07   2.56   88.87  21.53   11.29    9.63   \n",
       "Fighting       51.11    8.65   21.73   2.62   23.36   6.27   37.32   12.80   \n",
       "Simulation     10.31    1.23    6.24    NaN   35.57   0.20   13.86    7.11   \n",
       "Adventure      22.28    6.34   10.67   3.84   17.70   0.17   14.89    3.02   \n",
       "Puzzle          0.44    0.02    5.45   0.18   15.30   1.32    0.73    0.41   \n",
       "Strategy        4.68    0.62   10.14    NaN    5.02   1.24    9.66    2.74   \n",
       "\n",
       "platform        XOne      All  \n",
       "genre                          \n",
       "All           159.32  7735.68  \n",
       "Action         37.31  1609.40  \n",
       "Sports         26.74  1214.56  \n",
       "Shooter        60.33   952.15  \n",
       "Role-Playing   10.55   779.25  \n",
       "Misc            7.43   752.24  \n",
       "Racing          9.79   650.61  \n",
       "Platform        0.93   543.14  \n",
       "Fighting        2.45   370.46  \n",
       "Simulation      0.69   366.93  \n",
       "Adventure       2.68   204.90  \n",
       "Puzzle           NaN   146.97  \n",
       "Strategy        0.42   145.07  "
      ]
     },
     "execution_count": 81,
     "metadata": {},
     "output_type": "execute_result"
    }
   ],
   "source": [
    "data_by_genre"
   ]
  },
  {
   "cell_type": "code",
   "execution_count": 82,
   "metadata": {
    "scrolled": true
   },
   "outputs": [
    {
     "data": {
      "text/plain": [
       "<AxesSubplot:xlabel='genre'>"
      ]
     },
     "execution_count": 82,
     "metadata": {},
     "output_type": "execute_result"
    },
    {
     "data": {
      "image/png": "[encoded data removed]",
      "text/plain": [
       "<Figure size 432x288 with 1 Axes>"
      ]
     },
     "metadata": {
      "needs_background": "light"
     },
     "output_type": "display_data"
    }
   ],
   "source": [
    "data_by_genre['All'].plot(kind='bar')"
   ]
  },
  {
   "cell_type": "markdown",
   "metadata": {},
   "source": [
    "- Los géneros que generan más ventas históricamente son Action, Sports, y Shooter. Éstos son géneros que han estado presentes por un tiempo prolongado y tienen una buena aceptación generalizada.\n",
    "- Los géneros que generan menos ventas son Adventure, Puzzle, y Strategy. Éstos son géneros que podrían llamarse de nicho, tienen aceptación por un grupo específico de usuarios solamente."
   ]
  },
  {
   "cell_type": "markdown",
   "metadata": {},
   "source": [
    "#### Perfil de usuario por región"
   ]
  },
  {
   "cell_type": "markdown",
   "metadata": {},
   "source": [
    "##### Plataformas principales por región"
   ]
  },
  {
   "cell_type": "code",
   "execution_count": 83,
   "metadata": {},
   "outputs": [],
   "source": [
    "Regional_profile=dataset.pivot_table(index=['platform','genre'],values=['na_sales','eu_sales','jp_sales'],aggfunc='sum')"
   ]
  },
  {
   "cell_type": "code",
   "execution_count": 84,
   "metadata": {},
   "outputs": [],
   "source": [
    "Regional_profile.reset_index(inplace=True)"
   ]
  },
  {
   "cell_type": "code",
   "execution_count": 85,
   "metadata": {},
   "outputs": [
    {
     "data": {
      "text/html": [
       "<div>\n",
       "<style scoped>\n",
       "    .dataframe tbody tr th:only-of-type {\n",
       "        vertical-align: middle;\n",
       "    }\n",
       "\n",
       "    .dataframe tbody tr th {\n",
       "        vertical-align: top;\n",
       "    }\n",
       "\n",
       "    .dataframe thead th {\n",
       "        text-align: right;\n",
       "    }\n",
       "</style>\n",
       "<table border=\"1\" class=\"dataframe\">\n",
       "  <thead>\n",
       "    <tr style=\"text-align: right;\">\n",
       "      <th></th>\n",
       "      <th>platform</th>\n",
       "      <th>genre</th>\n",
       "      <th>eu_sales</th>\n",
       "      <th>jp_sales</th>\n",
       "      <th>na_sales</th>\n",
       "    </tr>\n",
       "  </thead>\n",
       "  <tbody>\n",
       "    <tr>\n",
       "      <th>0</th>\n",
       "      <td>3DS</td>\n",
       "      <td>Action</td>\n",
       "      <td>12.66</td>\n",
       "      <td>22.66</td>\n",
       "      <td>19.62</td>\n",
       "    </tr>\n",
       "    <tr>\n",
       "      <th>1</th>\n",
       "      <td>3DS</td>\n",
       "      <td>Adventure</td>\n",
       "      <td>0.79</td>\n",
       "      <td>2.76</td>\n",
       "      <td>1.10</td>\n",
       "    </tr>\n",
       "    <tr>\n",
       "      <th>2</th>\n",
       "      <td>3DS</td>\n",
       "      <td>Fighting</td>\n",
       "      <td>2.21</td>\n",
       "      <td>3.22</td>\n",
       "      <td>4.46</td>\n",
       "    </tr>\n",
       "    <tr>\n",
       "      <th>3</th>\n",
       "      <td>3DS</td>\n",
       "      <td>Misc</td>\n",
       "      <td>2.38</td>\n",
       "      <td>5.51</td>\n",
       "      <td>2.69</td>\n",
       "    </tr>\n",
       "    <tr>\n",
       "      <th>4</th>\n",
       "      <td>3DS</td>\n",
       "      <td>Platform</td>\n",
       "      <td>10.51</td>\n",
       "      <td>6.48</td>\n",
       "      <td>13.27</td>\n",
       "    </tr>\n",
       "    <tr>\n",
       "      <th>...</th>\n",
       "      <td>...</td>\n",
       "      <td>...</td>\n",
       "      <td>...</td>\n",
       "      <td>...</td>\n",
       "      <td>...</td>\n",
       "    </tr>\n",
       "    <tr>\n",
       "      <th>192</th>\n",
       "      <td>XOne</td>\n",
       "      <td>Role-Playing</td>\n",
       "      <td>3.43</td>\n",
       "      <td>0.01</td>\n",
       "      <td>6.15</td>\n",
       "    </tr>\n",
       "    <tr>\n",
       "      <th>193</th>\n",
       "      <td>XOne</td>\n",
       "      <td>Shooter</td>\n",
       "      <td>17.80</td>\n",
       "      <td>0.16</td>\n",
       "      <td>36.86</td>\n",
       "    </tr>\n",
       "    <tr>\n",
       "      <th>194</th>\n",
       "      <td>XOne</td>\n",
       "      <td>Simulation</td>\n",
       "      <td>0.31</td>\n",
       "      <td>0.00</td>\n",
       "      <td>0.32</td>\n",
       "    </tr>\n",
       "    <tr>\n",
       "      <th>195</th>\n",
       "      <td>XOne</td>\n",
       "      <td>Sports</td>\n",
       "      <td>8.73</td>\n",
       "      <td>0.02</td>\n",
       "      <td>15.59</td>\n",
       "    </tr>\n",
       "    <tr>\n",
       "      <th>196</th>\n",
       "      <td>XOne</td>\n",
       "      <td>Strategy</td>\n",
       "      <td>0.11</td>\n",
       "      <td>0.00</td>\n",
       "      <td>0.27</td>\n",
       "    </tr>\n",
       "  </tbody>\n",
       "</table>\n",
       "<p>197 rows × 5 columns</p>\n",
       "</div>"
      ],
      "text/plain": [
       "    platform         genre  eu_sales  jp_sales  na_sales\n",
       "0        3DS        Action     12.66     22.66     19.62\n",
       "1        3DS     Adventure      0.79      2.76      1.10\n",
       "2        3DS      Fighting      2.21      3.22      4.46\n",
       "3        3DS          Misc      2.38      5.51      2.69\n",
       "4        3DS      Platform     10.51      6.48     13.27\n",
       "..       ...           ...       ...       ...       ...\n",
       "192     XOne  Role-Playing      3.43      0.01      6.15\n",
       "193     XOne       Shooter     17.80      0.16     36.86\n",
       "194     XOne    Simulation      0.31      0.00      0.32\n",
       "195     XOne        Sports      8.73      0.02     15.59\n",
       "196     XOne      Strategy      0.11      0.00      0.27\n",
       "\n",
       "[197 rows x 5 columns]"
      ]
     },
     "execution_count": 85,
     "metadata": {},
     "output_type": "execute_result"
    }
   ],
   "source": [
    "Regional_profile"
   ]
  },
  {
   "cell_type": "code",
   "execution_count": 86,
   "metadata": {},
   "outputs": [],
   "source": [
    "NA_top_platform = Regional_profile.groupby('platform')['na_sales'].sum().sort_values(ascending=False).head()"
   ]
  },
  {
   "cell_type": "code",
   "execution_count": 87,
   "metadata": {
    "scrolled": true
   },
   "outputs": [
    {
     "data": {
      "text/plain": [
       "<AxesSubplot:xlabel='platform'>"
      ]
     },
     "execution_count": 87,
     "metadata": {},
     "output_type": "execute_result"
    },
    {
     "data": {
      "image/png": "[encoded data removed]",
      "text/plain": [
       "<Figure size 432x288 with 1 Axes>"
      ]
     },
     "metadata": {
      "needs_background": "light"
     },
     "output_type": "display_data"
    }
   ],
   "source": [
    "NA_top_platform.plot(kind='bar')"
   ]
  },
  {
   "cell_type": "markdown",
   "metadata": {},
   "source": [
    "Las plataformas más vendedoras históricamente para la región de NA son X360, PS2, Wii, PS3 y DS."
   ]
  },
  {
   "cell_type": "code",
   "execution_count": 88,
   "metadata": {},
   "outputs": [],
   "source": [
    "EU_top_platform = Regional_profile.groupby('platform')['eu_sales'].sum().sort_values(ascending=False).head()"
   ]
  },
  {
   "cell_type": "code",
   "execution_count": 89,
   "metadata": {
    "scrolled": true
   },
   "outputs": [
    {
     "data": {
      "text/plain": [
       "<AxesSubplot:xlabel='platform'>"
      ]
     },
     "execution_count": 89,
     "metadata": {},
     "output_type": "execute_result"
    },
    {
     "data": {
      "image/png": "[encoded data removed]",
      "text/plain": [
       "<Figure size 432x288 with 1 Axes>"
      ]
     },
     "metadata": {
      "needs_background": "light"
     },
     "output_type": "display_data"
    }
   ],
   "source": [
    "EU_top_platform.plot(kind='bar')"
   ]
  },
  {
   "cell_type": "markdown",
   "metadata": {},
   "source": [
    "Las plataformas más vendedoras históricamente para la región de EU son PS2, PS3, X360, Wii y PS."
   ]
  },
  {
   "cell_type": "code",
   "execution_count": 90,
   "metadata": {},
   "outputs": [],
   "source": [
    "JP_top_platform = Regional_profile.groupby('platform')['jp_sales'].sum().sort_values(ascending=False).head()"
   ]
  },
  {
   "cell_type": "code",
   "execution_count": 91,
   "metadata": {
    "scrolled": true
   },
   "outputs": [
    {
     "data": {
      "text/plain": [
       "<AxesSubplot:xlabel='platform'>"
      ]
     },
     "execution_count": 91,
     "metadata": {},
     "output_type": "execute_result"
    },
    {
     "data": {
      "image/png": "[encoded data removed]",
      "text/plain": [
       "<Figure size 432x288 with 1 Axes>"
      ]
     },
     "metadata": {
      "needs_background": "light"
     },
     "output_type": "display_data"
    }
   ],
   "source": [
    "JP_top_platform.plot(kind='bar')"
   ]
  },
  {
   "cell_type": "markdown",
   "metadata": {},
   "source": [
    "Las plataformas más vendedoras históricamente para la región de JP son DS, PS, PS2, 3DS y PS3."
   ]
  },
  {
   "cell_type": "markdown",
   "metadata": {},
   "source": [
    "<div class=\"alert alert-block alert-success\">\n",
    "<b>Reviewer's comment</b> <a class=\"tocSkip\"></a>\n",
    "\n",
    "¡Genial! Con este análisis creaste un perfil por región que puede ayudar a comprender como se comportan las regiones con las plataformas.\n",
    "</div>"
   ]
  },
  {
   "cell_type": "markdown",
   "metadata": {},
   "source": [
    "##### Géneros principales por región"
   ]
  },
  {
   "cell_type": "code",
   "execution_count": 92,
   "metadata": {},
   "outputs": [],
   "source": [
    "NA_top_genre = Regional_profile.groupby('genre')['na_sales'].sum().sort_values(ascending=False).head()"
   ]
  },
  {
   "cell_type": "code",
   "execution_count": 93,
   "metadata": {
    "scrolled": true
   },
   "outputs": [
    {
     "data": {
      "text/plain": [
       "<AxesSubplot:xlabel='genre'>"
      ]
     },
     "execution_count": 93,
     "metadata": {},
     "output_type": "execute_result"
    },
    {
     "data": {
      "image/png": "[encoded data removed]",
      "text/plain": [
       "<Figure size 432x288 with 1 Axes>"
      ]
     },
     "metadata": {
      "needs_background": "light"
     },
     "output_type": "display_data"
    }
   ],
   "source": [
    "NA_top_genre.plot(kind='bar')"
   ]
  },
  {
   "cell_type": "markdown",
   "metadata": {},
   "source": [
    "Los géneros más vendedores históricamente para la región de NA son Action, Sports, Shooter, Misc y Racing."
   ]
  },
  {
   "cell_type": "code",
   "execution_count": 94,
   "metadata": {},
   "outputs": [],
   "source": [
    "EU_top_genre = Regional_profile.groupby('genre')['eu_sales'].sum().sort_values(ascending=False).head()"
   ]
  },
  {
   "cell_type": "code",
   "execution_count": 95,
   "metadata": {
    "scrolled": true
   },
   "outputs": [
    {
     "data": {
      "text/plain": [
       "<AxesSubplot:xlabel='genre'>"
      ]
     },
     "execution_count": 95,
     "metadata": {},
     "output_type": "execute_result"
    },
    {
     "data": {
      "image/png": "[encoded data removed]",
      "text/plain": [
       "<Figure size 432x288 with 1 Axes>"
      ]
     },
     "metadata": {
      "needs_background": "light"
     },
     "output_type": "display_data"
    }
   ],
   "source": [
    "EU_top_genre.plot(kind='bar')"
   ]
  },
  {
   "cell_type": "markdown",
   "metadata": {},
   "source": [
    "Los géneros más vendedores históricamente para la región de EU son Action, Sports, Shooter, Misc y Racing."
   ]
  },
  {
   "cell_type": "code",
   "execution_count": 96,
   "metadata": {},
   "outputs": [],
   "source": [
    "JP_top_genre = Regional_profile.groupby('genre')['jp_sales'].sum().sort_values(ascending=False).head()"
   ]
  },
  {
   "cell_type": "code",
   "execution_count": 97,
   "metadata": {
    "scrolled": true
   },
   "outputs": [
    {
     "data": {
      "text/plain": [
       "<AxesSubplot:xlabel='genre'>"
      ]
     },
     "execution_count": 97,
     "metadata": {},
     "output_type": "execute_result"
    },
    {
     "data": {
      "image/png": "[encoded data removed]",
      "text/plain": [
       "<Figure size 432x288 with 1 Axes>"
      ]
     },
     "metadata": {
      "needs_background": "light"
     },
     "output_type": "display_data"
    }
   ],
   "source": [
    "JP_top_genre.plot(kind='bar')"
   ]
  },
  {
   "cell_type": "markdown",
   "metadata": {},
   "source": [
    "Los géneros más vendedores históricamente para la región de JP son Role, Action, Sports, Misc y Platform."
   ]
  },
  {
   "cell_type": "markdown",
   "metadata": {},
   "source": [
    "##### Correlación de rating contra ventas por región"
   ]
  },
  {
   "cell_type": "code",
   "execution_count": 98,
   "metadata": {},
   "outputs": [],
   "source": [
    "Regional_rating=dataset.pivot_table(index=['rating'],values=['na_sales','eu_sales','jp_sales'],aggfunc='sum')"
   ]
  },
  {
   "cell_type": "code",
   "execution_count": 99,
   "metadata": {},
   "outputs": [
    {
     "data": {
      "text/html": [
       "<div>\n",
       "<style scoped>\n",
       "    .dataframe tbody tr th:only-of-type {\n",
       "        vertical-align: middle;\n",
       "    }\n",
       "\n",
       "    .dataframe tbody tr th {\n",
       "        vertical-align: top;\n",
       "    }\n",
       "\n",
       "    .dataframe thead th {\n",
       "        text-align: right;\n",
       "    }\n",
       "</style>\n",
       "<table border=\"1\" class=\"dataframe\">\n",
       "  <thead>\n",
       "    <tr style=\"text-align: right;\">\n",
       "      <th></th>\n",
       "      <th>eu_sales</th>\n",
       "      <th>jp_sales</th>\n",
       "      <th>na_sales</th>\n",
       "    </tr>\n",
       "    <tr>\n",
       "      <th>rating</th>\n",
       "      <th></th>\n",
       "      <th></th>\n",
       "      <th></th>\n",
       "    </tr>\n",
       "  </thead>\n",
       "  <tbody>\n",
       "    <tr>\n",
       "      <th>AO</th>\n",
       "      <td>0.61</td>\n",
       "      <td>0.00</td>\n",
       "      <td>1.26</td>\n",
       "    </tr>\n",
       "    <tr>\n",
       "      <th>E</th>\n",
       "      <td>703.84</td>\n",
       "      <td>197.96</td>\n",
       "      <td>1274.21</td>\n",
       "    </tr>\n",
       "    <tr>\n",
       "      <th>E10+</th>\n",
       "      <td>183.35</td>\n",
       "      <td>40.20</td>\n",
       "      <td>345.50</td>\n",
       "    </tr>\n",
       "    <tr>\n",
       "      <th>EC</th>\n",
       "      <td>0.11</td>\n",
       "      <td>0.00</td>\n",
       "      <td>1.53</td>\n",
       "    </tr>\n",
       "    <tr>\n",
       "      <th>K-A</th>\n",
       "      <td>0.27</td>\n",
       "      <td>1.46</td>\n",
       "      <td>2.56</td>\n",
       "    </tr>\n",
       "    <tr>\n",
       "      <th>M</th>\n",
       "      <td>480.00</td>\n",
       "      <td>63.58</td>\n",
       "      <td>742.89</td>\n",
       "    </tr>\n",
       "    <tr>\n",
       "      <th>RP</th>\n",
       "      <td>0.03</td>\n",
       "      <td>0.00</td>\n",
       "      <td>0.00</td>\n",
       "    </tr>\n",
       "    <tr>\n",
       "      <th>T</th>\n",
       "      <td>891.20</td>\n",
       "      <td>613.86</td>\n",
       "      <td>1431.53</td>\n",
       "    </tr>\n",
       "  </tbody>\n",
       "</table>\n",
       "</div>"
      ],
      "text/plain": [
       "        eu_sales  jp_sales  na_sales\n",
       "rating                              \n",
       "AO          0.61      0.00      1.26\n",
       "E         703.84    197.96   1274.21\n",
       "E10+      183.35     40.20    345.50\n",
       "EC          0.11      0.00      1.53\n",
       "K-A         0.27      1.46      2.56\n",
       "M         480.00     63.58    742.89\n",
       "RP          0.03      0.00      0.00\n",
       "T         891.20    613.86   1431.53"
      ]
     },
     "execution_count": 99,
     "metadata": {},
     "output_type": "execute_result"
    }
   ],
   "source": [
    "Regional_rating"
   ]
  },
  {
   "cell_type": "code",
   "execution_count": 100,
   "metadata": {
    "scrolled": true
   },
   "outputs": [
    {
     "data": {
      "text/plain": [
       "<AxesSubplot:xlabel='rating'>"
      ]
     },
     "execution_count": 100,
     "metadata": {},
     "output_type": "execute_result"
    },
    {
     "data": {
      "image/png": "[encoded data removed]",
      "text/plain": [
       "<Figure size 432x288 with 1 Axes>"
      ]
     },
     "metadata": {
      "needs_background": "light"
     },
     "output_type": "display_data"
    }
   ],
   "source": [
    "Regional_rating['eu_sales'].sort_values(ascending=False).plot(kind='bar')"
   ]
  },
  {
   "cell_type": "markdown",
   "metadata": {},
   "source": [
    "La clasificación ESRB más vendedora históricamente para la región EU es T(een), seguida de E(veryone) y M(ature)."
   ]
  },
  {
   "cell_type": "code",
   "execution_count": 101,
   "metadata": {
    "scrolled": true
   },
   "outputs": [
    {
     "data": {
      "text/plain": [
       "<AxesSubplot:xlabel='rating'>"
      ]
     },
     "execution_count": 101,
     "metadata": {},
     "output_type": "execute_result"
    },
    {
     "data": {
      "image/png": "[encoded data removed]",
      "text/plain": [
       "<Figure size 432x288 with 1 Axes>"
      ]
     },
     "metadata": {
      "needs_background": "light"
     },
     "output_type": "display_data"
    }
   ],
   "source": [
    "Regional_rating['jp_sales'].sort_values(ascending=False).plot(kind='bar')"
   ]
  },
  {
   "cell_type": "markdown",
   "metadata": {},
   "source": [
    "La clasificación ESRB más vendedora históricamente para la región JP es T(een), seguida de E(veryone) y M(ature)."
   ]
  },
  {
   "cell_type": "code",
   "execution_count": 102,
   "metadata": {
    "scrolled": true
   },
   "outputs": [
    {
     "data": {
      "text/plain": [
       "<AxesSubplot:xlabel='rating'>"
      ]
     },
     "execution_count": 102,
     "metadata": {},
     "output_type": "execute_result"
    },
    {
     "data": {
      "image/png": "[encoded data removed]",
      "text/plain": [
       "<Figure size 432x288 with 1 Axes>"
      ]
     },
     "metadata": {
      "needs_background": "light"
     },
     "output_type": "display_data"
    }
   ],
   "source": [
    "Regional_rating['na_sales'].sort_values(ascending=False).plot(kind='bar')"
   ]
  },
  {
   "cell_type": "markdown",
   "metadata": {},
   "source": [
    "La clasificación ESRB más vendedora históricamente para la región NA es T(een), seguida de E(veryone) y M(ature)."
   ]
  },
  {
   "cell_type": "markdown",
   "metadata": {},
   "source": [
    "<div class=\"alert alert-block alert-success\">\n",
    "<b>Reviewer's comment</b> <a class=\"tocSkip\"></a>\n",
    "\n",
    "Bien, con todos esta información podrías realizar un perfil más exacto por región.\n",
    "</div>"
   ]
  },
  {
   "cell_type": "markdown",
   "metadata": {},
   "source": [
    "#### Pruebas de hipótesis"
   ]
  },
  {
   "cell_type": "markdown",
   "metadata": {},
   "source": [
    "***Hipótesis nula = Las calificaciones promedio de los usuarios para las plataformas Xbox One y PC son las mismas.***"
   ]
  },
  {
   "cell_type": "markdown",
   "metadata": {},
   "source": [
    "<div class=\"alert alert-block alert-success\">\n",
    "<b>Reviewer's comment</b> <a class=\"tocSkip\"></a>\n",
    "\n",
    "Definiste correctamente la hipótesis a probar.\n",
    "</div>"
   ]
  },
  {
   "cell_type": "code",
   "execution_count": 103,
   "metadata": {},
   "outputs": [],
   "source": [
    "XOne_user_score = dataset[dataset['platform']=='XOne']['user_score']\n",
    "PC_user_score = dataset[dataset['platform']=='PC']['user_score']"
   ]
  },
  {
   "cell_type": "code",
   "execution_count": 104,
   "metadata": {},
   "outputs": [
    {
     "name": "stdout",
     "output_type": "stream",
     "text": [
      "6.620647773279352\n",
      "7.17042842215256\n"
     ]
    }
   ],
   "source": [
    "print(XOne_user_score.mean())\n",
    "print(PC_user_score.mean())"
   ]
  },
  {
   "cell_type": "code",
   "execution_count": 105,
   "metadata": {},
   "outputs": [
    {
     "name": "stdout",
     "output_type": "stream",
     "text": [
      "1.4701202281630579\n",
      "1.939700234427291\n"
     ]
    }
   ],
   "source": [
    "print(np.var(XOne_user_score))\n",
    "print(np.var(PC_user_score))"
   ]
  },
  {
   "cell_type": "markdown",
   "metadata": {},
   "source": [
    "<div class=\"alert alert-block alert-success\">\n",
    "<b>Reviewer's comment</b> <a class=\"tocSkip\"></a>\n",
    "\n",
    "Muy bien, calculaste las varianzas para saber si se puede usar el parámetro `equal_var=False`.\n",
    "</div>"
   ]
  },
  {
   "cell_type": "code",
   "execution_count": 106,
   "metadata": {},
   "outputs": [
    {
     "name": "stdout",
     "output_type": "stream",
     "text": [
      "247\n",
      "957\n"
     ]
    }
   ],
   "source": [
    "print(len(XOne_user_score))\n",
    "print(len(PC_user_score))"
   ]
  },
  {
   "cell_type": "code",
   "execution_count": 107,
   "metadata": {},
   "outputs": [
    {
     "name": "stdout",
     "output_type": "stream",
     "text": [
      "p_value 1.8314447814917828e-09\n",
      "Se rechaza la hipótesis nula\n"
     ]
    }
   ],
   "source": [
    "alpha = 0.05\n",
    "results = st.ttest_ind(XOne_user_score,PC_user_score,equal_var=False)\n",
    "print('p_value',results.pvalue)\n",
    "\n",
    "if (results.pvalue < alpha):\n",
    "    print('Se rechaza la hipótesis nula')\n",
    "else:\n",
    "    print('No se rechaza la hipótesis nula')"
   ]
  },
  {
   "cell_type": "markdown",
   "metadata": {},
   "source": [
    "La probabilidad de que una diferencia tan grande entre la calificación de ususario promedio de XOne y PC sea aleatoria es demasiado baja, por lo que se desecha la hipótesis nula. O sea, las calificaciones promedio de usuario entre éstas dos plataformas son diferentes."
   ]
  },
  {
   "cell_type": "markdown",
   "metadata": {},
   "source": [
    "<div class=\"alert alert-block alert-success\">\n",
    "<b>Reviewer's comment</b> <a class=\"tocSkip\"></a>\n",
    "\n",
    "Interpretaste correctamente el p-valor de la prueba de hipótesis.\n",
    "</div>"
   ]
  },
  {
   "cell_type": "markdown",
   "metadata": {},
   "source": [
    "***Hipótesis nula = Las calificaciones promedio de los usuarios para los géneros de Acción y Deportes son diferentes.***"
   ]
  },
  {
   "cell_type": "code",
   "execution_count": 108,
   "metadata": {},
   "outputs": [],
   "source": [
    "Action_user_score = dataset[dataset['genre']=='Action']['user_score']\n",
    "Sports_user_score = dataset[dataset['genre']=='Sports']['user_score']"
   ]
  },
  {
   "cell_type": "code",
   "execution_count": 109,
   "metadata": {},
   "outputs": [
    {
     "name": "stdout",
     "output_type": "stream",
     "text": [
      "7.163527559055118\n",
      "7.235364705882354\n"
     ]
    }
   ],
   "source": [
    "print(Action_user_score.mean())\n",
    "print(Sports_user_score.mean())"
   ]
  },
  {
   "cell_type": "code",
   "execution_count": 110,
   "metadata": {},
   "outputs": [
    {
     "name": "stdout",
     "output_type": "stream",
     "text": [
      "1.2351768476656952\n",
      "1.58146580816609\n"
     ]
    }
   ],
   "source": [
    "print(np.var(Action_user_score))\n",
    "print(np.var(Sports_user_score))"
   ]
  },
  {
   "cell_type": "code",
   "execution_count": 111,
   "metadata": {},
   "outputs": [
    {
     "name": "stdout",
     "output_type": "stream",
     "text": [
      "3175\n",
      "2125\n"
     ]
    }
   ],
   "source": [
    "print(len(Action_user_score))\n",
    "print(len(Sports_user_score))"
   ]
  },
  {
   "cell_type": "code",
   "execution_count": 112,
   "metadata": {},
   "outputs": [
    {
     "name": "stdout",
     "output_type": "stream",
     "text": [
      "p_value 0.03294093436297286\n",
      "Se rechaza la hipótesis nula\n"
     ]
    }
   ],
   "source": [
    "alpha = 0.05\n",
    "results = st.ttest_ind(Action_user_score,Sports_user_score,equal_var=False)\n",
    "print('p_value',results.pvalue)\n",
    "\n",
    "if (results.pvalue < alpha):\n",
    "    print('Se rechaza la hipótesis nula')\n",
    "else:\n",
    "    print('No se rechaza la hipótesis nula')"
   ]
  },
  {
   "cell_type": "markdown",
   "metadata": {},
   "source": [
    "La probabilidad de que una diferencia tan grande entre la calificación de ususario promedio del género Action y el género Sports sea aleatoria es más baja que el estadístico de prueba, por lo que se desecha la hipótesis nula. O sea, las calificaciones promedio de usuario entre éstos dos géneros son diferentes."
   ]
  },
  {
   "cell_type": "markdown",
   "metadata": {},
   "source": [
    "El criterio utilizado para probar la hipótesis nula en ambos casos corresponde a una  hipótesis de dos colas, sobre la igualdad de las medias tomando en cuenta tamaños de muestra y varianzas diferentes."
   ]
  },
  {
   "cell_type": "markdown",
   "metadata": {},
   "source": [
    "<div class=\"alert alert-block alert-success\">\n",
    "<b>Reviewer's comment</b> <a class=\"tocSkip\"></a>\n",
    "\n",
    "Bien realizaste correctamente la prueba de hipótesis.\n",
    "</div>"
   ]
  },
  {
   "cell_type": "markdown",
   "metadata": {},
   "source": [
    "#### Conclusión general"
   ]
  },
  {
   "cell_type": "markdown",
   "metadata": {},
   "source": [
    "- El número de lanzamientos de videojuegos por año vió un crecimiento desde 1994 hasta llegar a un máximo en 2009 para luego caer hasta 2016.\n",
    "- El top 5 de ventas totales por plataforma está compuesto por PS2, DS, PS3, Wii, X360.\n",
    "- La tendencia que se observa en el mercado de videojuegos es de un aumento de las ventas desde el lanzamiento de la plataforma hasta un pico y una posterior decadencia hasta su muerte.\n",
    "- Las plataformas más antiguas como PC y DS tenían periodos de vida muy largos (31 y 28 años, respectivamente), mientras que plataformas más nuevas como PS4 y XOne tienen periodos de vida muy cortos (3 años).\n",
    "- Las plataforma líderes en ventas y las más rentables actualmente son PS4, XOne y PSP.\n",
    "- Se observa una reducción del mercado generalizada en donde todas las ventas tienden a disminuir.\n",
    "- La correlación de ventas contra user_score y critic_score es muy débil en general, aunque si afecta no es definitiva para el crecimiento de ventas por plataforma.\n",
    "- Los géneros que generan más ventas históricamente son Action, Sports, y Shooter. \n",
    "- Los géneros que generan menos ventas son Adventure, Puzzle, y Strategy. \n",
    "- Las plataformas más vendedoras históricamente son X360, PS2, Wii, PS3 y DS.\n",
    "- Los géneros más vendedores históricamente son Action, Sports, Shooter, Misc y Racing.\n",
    "- La clasificación ESRB más vendedora históricamente para todas las regiones son T(een), seguida de E(veryone) y M(ature)."
   ]
  },
  {
   "cell_type": "markdown",
   "metadata": {},
   "source": [
    "<div class=\"alert alert-block alert-success\">\n",
    "<b>Reviewer's comment</b> <a class=\"tocSkip\"></a>\n",
    "\n",
    "Buenas conclusiones, se basan en los resultados obtenidos en el proyecto.\n",
    "</div>"
   ]
  },
  {
   "cell_type": "markdown",
   "metadata": {},
   "source": [
    "<div class=\"alert alert-block alert-success\">\n",
    "<b>Reviewer's comment</b> <a class=\"tocSkip\"></a>\n",
    "\n",
    "¡Hola!\n",
    "    \n",
    "Te quiero felicitar por tu trabajo, se nota el esfuerzo y dedicación invertido en él. Las pruebas de hipótesis se plantearon correctamente y se interpretaron bien, esta herramienta estadística la dominas muy bien. También tus gráficas son buenas y se pueden usar en algún reporte o presentación, siempre recuerda incluir títulos y leyendas para que sean autocontenidas.\n",
    "    \n",
    "Deje comentarios opcionales en celdas de color amarillo, pero no tienes que cambiar nada puedo aprobar tu proyecto.\n",
    " \n",
    "Saludos,\n",
    "Marcos.\n",
    "    \n",
    "</div>"
   ]
  },
  {
   "cell_type": "code",
   "execution_count": null,
   "metadata": {},
   "outputs": [],
   "source": []
  }
 ],
 "metadata": {
  "kernelspec": {
   "display_name": "Python 3 (ipykernel)",
   "language": "python",
   "name": "python3"
  },
  "language_info": {
   "codemirror_mode": {
    "name": "ipython",
    "version": 3
   },
   "file_extension": ".py",
   "mimetype": "text/x-python",
   "name": "python",
   "nbconvert_exporter": "python",
   "pygments_lexer": "ipython3",
   "version": "3.9.5"
  },
  "toc": {
   "base_numbering": 1,
   "nav_menu": {},
   "number_sections": true,
   "sideBar": true,
   "skip_h1_title": true,
   "title_cell": "Table of Contents",
   "title_sidebar": "Contents",
   "toc_cell": false,
   "toc_position": {},
   "toc_section_display": true,
   "toc_window_display": false
  }
 },
 "nbformat": 4,
 "nbformat_minor": 2
}
